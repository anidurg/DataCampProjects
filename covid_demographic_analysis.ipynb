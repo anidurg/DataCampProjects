{
 "cells": [
  {
   "cell_type": "markdown",
   "id": "fa0c7162",
   "metadata": {},
   "source": [
    "### Data Analysis of Itolizuma drug in Covid cases<a id='main'>"
   ]
  },
  {
   "cell_type": "markdown",
   "id": "f9b2c37b",
   "metadata": {},
   "source": [
    "### Import Libraries<a id='imports'>"
   ]
  },
  {
   "cell_type": "code",
   "execution_count": 2,
   "id": "acca0b0d",
   "metadata": {},
   "outputs": [
    {
     "name": "stdout",
     "output_type": "stream",
     "text": [
      "Loaded Libraries\n"
     ]
    }
   ],
   "source": [
    "%matplotlib inline\n",
    "#\n",
    "# data manipulation and math\n",
    "#\n",
    "import numpy as np\n",
    "import scipy as sp\n",
    "import pandas as pd\n",
    "#\n",
    "# plotting and visualization\n",
    "#\n",
    "import matplotlib as mpl\n",
    "import matplotlib.cm as cm\n",
    "from matplotlib.colors import ListedColormap\n",
    "import matplotlib.pyplot as plt\n",
    "#\n",
    "import seaborn as sns\n",
    "#\n",
    "\n",
    "print(\"Loaded Libraries\")\n",
    "import warnings\n",
    "warnings.filterwarnings('ignore')"
   ]
  },
  {
   "cell_type": "markdown",
   "id": "8a2fe686",
   "metadata": {},
   "source": [
    "### Load Data<a id='load_data'>"
   ]
  },
  {
   "cell_type": "code",
   "execution_count": 28,
   "id": "0d831a65",
   "metadata": {},
   "outputs": [
    {
     "name": "stdout",
     "output_type": "stream",
     "text": [
      "<class 'pandas.core.frame.DataFrame'>\n",
      "RangeIndex: 13 entries, 0 to 12\n",
      "Data columns (total 15 columns):\n",
      " #   Column             Non-Null Count  Dtype         \n",
      "---  ------             --------------  -----         \n",
      " 0   s_no               13 non-null     int64         \n",
      " 1   admission_date     13 non-null     datetime64[ns]\n",
      " 2   patient_num        13 non-null     object        \n",
      " 3   age_yrs            13 non-null     int64         \n",
      " 4   weight_kg          10 non-null     float64       \n",
      " 5   gender             13 non-null     object        \n",
      " 6   fever              4 non-null      object        \n",
      " 7   cough              7 non-null      object        \n",
      " 8   sob                13 non-null     object        \n",
      " 9   weakness           7 non-null      object        \n",
      " 10  appetite_loss      2 non-null      object        \n",
      " 11  other_symptoms     4 non-null      object        \n",
      " 12  diabetes_mellitus  8 non-null      object        \n",
      " 13  hypertension       9 non-null      object        \n",
      " 14  other_comorbidity  1 non-null      object        \n",
      "dtypes: datetime64[ns](1), float64(1), int64(2), object(11)\n",
      "memory usage: 1.6+ KB\n"
     ]
    }
   ],
   "source": [
    "df = pd.read_csv('ito_demographics_data.csv', parse_dates=['admission_date'])\n",
    "df.info()"
   ]
  },
  {
   "cell_type": "code",
   "execution_count": 15,
   "id": "131cc33b",
   "metadata": {},
   "outputs": [
    {
     "data": {
      "text/plain": [
       "count    13.000000\n",
       "mean     66.692308\n",
       "std      13.161716\n",
       "min      36.000000\n",
       "25%      58.000000\n",
       "50%      69.000000\n",
       "75%      76.000000\n",
       "max      84.000000\n",
       "Name: age_yrs, dtype: float64"
      ]
     },
     "execution_count": 15,
     "metadata": {},
     "output_type": "execute_result"
    }
   ],
   "source": [
    "df['age_yrs'].describe()"
   ]
  },
  {
   "cell_type": "code",
   "execution_count": 16,
   "id": "dcaf8df6",
   "metadata": {},
   "outputs": [
    {
     "data": {
      "text/plain": [
       "count    10.000000\n",
       "mean     74.200000\n",
       "std      11.487191\n",
       "min      52.000000\n",
       "25%      69.000000\n",
       "50%      75.000000\n",
       "75%      79.000000\n",
       "max      95.000000\n",
       "Name: weight_kg, dtype: float64"
      ]
     },
     "execution_count": 16,
     "metadata": {},
     "output_type": "execute_result"
    }
   ],
   "source": [
    "df['weight_kg'].describe()"
   ]
  },
  {
   "cell_type": "code",
   "execution_count": 17,
   "id": "2173913a",
   "metadata": {},
   "outputs": [
    {
     "data": {
      "text/plain": [
       "count     13\n",
       "unique     2\n",
       "top        M\n",
       "freq      11\n",
       "Name: gender, dtype: object"
      ]
     },
     "execution_count": 17,
     "metadata": {},
     "output_type": "execute_result"
    }
   ],
   "source": [
    "df['gender'].describe()"
   ]
  },
  {
   "cell_type": "markdown",
   "id": "eae6a5c8",
   "metadata": {},
   "source": [
    "## Number of Missing values by column"
   ]
  },
  {
   "cell_type": "code",
   "execution_count": 18,
   "id": "e0d20817",
   "metadata": {},
   "outputs": [
    {
     "data": {
      "text/html": [
       "<div>\n",
       "<style scoped>\n",
       "    .dataframe tbody tr th:only-of-type {\n",
       "        vertical-align: middle;\n",
       "    }\n",
       "\n",
       "    .dataframe tbody tr th {\n",
       "        vertical-align: top;\n",
       "    }\n",
       "\n",
       "    .dataframe thead th {\n",
       "        text-align: right;\n",
       "    }\n",
       "</style>\n",
       "<table border=\"1\" class=\"dataframe\">\n",
       "  <thead>\n",
       "    <tr style=\"text-align: right;\">\n",
       "      <th></th>\n",
       "      <th>count</th>\n",
       "      <th>%</th>\n",
       "    </tr>\n",
       "  </thead>\n",
       "  <tbody>\n",
       "    <tr>\n",
       "      <th>weight_kg</th>\n",
       "      <td>3</td>\n",
       "      <td>23.076923</td>\n",
       "    </tr>\n",
       "    <tr>\n",
       "      <th>s_no</th>\n",
       "      <td>0</td>\n",
       "      <td>0.000000</td>\n",
       "    </tr>\n",
       "    <tr>\n",
       "      <th>admission_date</th>\n",
       "      <td>0</td>\n",
       "      <td>0.000000</td>\n",
       "    </tr>\n",
       "    <tr>\n",
       "      <th>patient_num</th>\n",
       "      <td>0</td>\n",
       "      <td>0.000000</td>\n",
       "    </tr>\n",
       "    <tr>\n",
       "      <th>age_yrs</th>\n",
       "      <td>0</td>\n",
       "      <td>0.000000</td>\n",
       "    </tr>\n",
       "    <tr>\n",
       "      <th>gender</th>\n",
       "      <td>0</td>\n",
       "      <td>0.000000</td>\n",
       "    </tr>\n",
       "  </tbody>\n",
       "</table>\n",
       "</div>"
      ],
      "text/plain": [
       "                count          %\n",
       "weight_kg           3  23.076923\n",
       "s_no                0   0.000000\n",
       "admission_date      0   0.000000\n",
       "patient_num         0   0.000000\n",
       "age_yrs             0   0.000000\n",
       "gender              0   0.000000"
      ]
     },
     "execution_count": 18,
     "metadata": {},
     "output_type": "execute_result"
    }
   ],
   "source": [
    "missing = pd.concat([df.isnull().sum(), 100 * df.isnull().mean()], axis=1)\n",
    "missing.columns=['count', '%']\n",
    "missing.sort_values('count', ascending=False)"
   ]
  },
  {
   "cell_type": "code",
   "execution_count": 6,
   "id": "f385b218",
   "metadata": {},
   "outputs": [
    {
     "data": {
      "text/html": [
       "<div>\n",
       "<style scoped>\n",
       "    .dataframe tbody tr th:only-of-type {\n",
       "        vertical-align: middle;\n",
       "    }\n",
       "\n",
       "    .dataframe tbody tr th {\n",
       "        vertical-align: top;\n",
       "    }\n",
       "\n",
       "    .dataframe thead th {\n",
       "        text-align: right;\n",
       "    }\n",
       "</style>\n",
       "<table border=\"1\" class=\"dataframe\">\n",
       "  <thead>\n",
       "    <tr style=\"text-align: right;\">\n",
       "      <th></th>\n",
       "      <th>s_no</th>\n",
       "      <th>admission_date</th>\n",
       "      <th>patient_num</th>\n",
       "      <th>age_yrs</th>\n",
       "      <th>weight_kg</th>\n",
       "      <th>gender</th>\n",
       "    </tr>\n",
       "  </thead>\n",
       "  <tbody>\n",
       "    <tr>\n",
       "      <th>0</th>\n",
       "      <td>1</td>\n",
       "      <td>2021-01-07</td>\n",
       "      <td>P1</td>\n",
       "      <td>58</td>\n",
       "      <td>75.0</td>\n",
       "      <td>M</td>\n",
       "    </tr>\n",
       "    <tr>\n",
       "      <th>1</th>\n",
       "      <td>2</td>\n",
       "      <td>2021-01-07</td>\n",
       "      <td>P2</td>\n",
       "      <td>84</td>\n",
       "      <td>76.0</td>\n",
       "      <td>M</td>\n",
       "    </tr>\n",
       "    <tr>\n",
       "      <th>2</th>\n",
       "      <td>3</td>\n",
       "      <td>2021-01-14</td>\n",
       "      <td>P3</td>\n",
       "      <td>53</td>\n",
       "      <td>75.0</td>\n",
       "      <td>M</td>\n",
       "    </tr>\n",
       "    <tr>\n",
       "      <th>3</th>\n",
       "      <td>4</td>\n",
       "      <td>2021-01-09</td>\n",
       "      <td>P4</td>\n",
       "      <td>69</td>\n",
       "      <td>95.0</td>\n",
       "      <td>M</td>\n",
       "    </tr>\n",
       "    <tr>\n",
       "      <th>4</th>\n",
       "      <td>5</td>\n",
       "      <td>2020-11-20</td>\n",
       "      <td>P5</td>\n",
       "      <td>77</td>\n",
       "      <td>65.0</td>\n",
       "      <td>M</td>\n",
       "    </tr>\n",
       "  </tbody>\n",
       "</table>\n",
       "</div>"
      ],
      "text/plain": [
       "   s_no admission_date patient_num  age_yrs  weight_kg gender\n",
       "0     1     2021-01-07          P1       58       75.0      M\n",
       "1     2     2021-01-07          P2       84       76.0      M\n",
       "2     3     2021-01-14          P3       53       75.0      M\n",
       "3     4     2021-01-09          P4       69       95.0      M\n",
       "4     5     2020-11-20          P5       77       65.0      M"
      ]
     },
     "execution_count": 6,
     "metadata": {},
     "output_type": "execute_result"
    }
   ],
   "source": [
    "df.head()"
   ]
  },
  {
   "cell_type": "code",
   "execution_count": 7,
   "id": "960a7c70",
   "metadata": {},
   "outputs": [
    {
     "data": {
      "text/plain": [
       "Index(['s_no', 'admission_date', 'patient_num', 'age_yrs', 'weight_kg',\n",
       "       'gender'],\n",
       "      dtype='object')"
      ]
     },
     "execution_count": 7,
     "metadata": {},
     "output_type": "execute_result"
    }
   ],
   "source": [
    "df.columns"
   ]
  },
  {
   "cell_type": "markdown",
   "id": "c08653c4",
   "metadata": {},
   "source": [
    "### Plot distributions"
   ]
  },
  {
   "cell_type": "code",
   "execution_count": 11,
   "id": "f04c2e14",
   "metadata": {},
   "outputs": [
    {
     "data": {
      "text/plain": [
       "<AxesSubplot:title={'center':'Age in Years'}, ylabel='Frequency'>"
      ]
     },
     "execution_count": 11,
     "metadata": {},
     "output_type": "execute_result"
    },
    {
     "data": {
      "image/png": "[encoded data removed]",
      "text/plain": [
       "<Figure size 640x480 with 1 Axes>"
      ]
     },
     "metadata": {},
     "output_type": "display_data"
    }
   ],
   "source": [
    "df['age_yrs'].plot(kind = 'hist', title = 'Age in Years')"
   ]
  },
  {
   "cell_type": "code",
   "execution_count": 12,
   "id": "a3522b80",
   "metadata": {},
   "outputs": [
    {
     "data": {
      "text/plain": [
       "<AxesSubplot:title={'center':'Weight in Kg'}, ylabel='Frequency'>"
      ]
     },
     "execution_count": 12,
     "metadata": {},
     "output_type": "execute_result"
    },
    {
     "data": {
      "image/png": "[encoded data removed]",
      "text/plain": [
       "<Figure size 640x480 with 1 Axes>"
      ]
     },
     "metadata": {},
     "output_type": "display_data"
    }
   ],
   "source": [
    "df['weight_kg'].plot(kind = 'hist', title = 'Weight in Kg')"
   ]
  },
  {
   "cell_type": "code",
   "execution_count": 13,
   "id": "e7c56537",
   "metadata": {},
   "outputs": [
    {
     "data": {
      "text/plain": [
       "M    11\n",
       "F     2\n",
       "Name: gender, dtype: int64"
      ]
     },
     "execution_count": 13,
     "metadata": {},
     "output_type": "execute_result"
    }
   ],
   "source": [
    "df.gender.value_counts()"
   ]
  },
  {
   "cell_type": "code",
   "execution_count": 27,
   "id": "8978b179",
   "metadata": {},
   "outputs": [
    {
     "data": {
      "text/plain": [
       "M    84.615385\n",
       "F    15.384615\n",
       "Name: gender, dtype: float64"
      ]
     },
     "execution_count": 27,
     "metadata": {},
     "output_type": "execute_result"
    }
   ],
   "source": [
    "df['gender'].value_counts(normalize=True)*100"
   ]
  },
  {
   "cell_type": "code",
   "execution_count": 14,
   "id": "d330a167",
   "metadata": {},
   "outputs": [
    {
     "data": {
      "text/plain": [
       "Text(0, 0.5, 'count')"
      ]
     },
     "execution_count": 14,
     "metadata": {},
     "output_type": "execute_result"
    },
    {
     "data": {
      "image/png": "[encoded data removed]",
      "text/plain": [
       "<Figure size 640x480 with 1 Axes>"
      ]
     },
     "metadata": {},
     "output_type": "display_data"
    }
   ],
   "source": [
    "df['gender'].value_counts().plot(kind=\"bar\")\n",
    "plt.title('Gender Distribution')\n",
    "plt.xlabel('Gender')\n",
    "plt.ylabel(\"count\")"
   ]
  },
  {
   "cell_type": "code",
   "execution_count": 31,
   "id": "2c0f4635",
   "metadata": {},
   "outputs": [
    {
     "data": {
      "text/plain": [
       "Y    4\n",
       "Name: fever, dtype: int64"
      ]
     },
     "execution_count": 31,
     "metadata": {},
     "output_type": "execute_result"
    }
   ],
   "source": [
    "df['fever'].value_counts()"
   ]
  },
  {
   "cell_type": "code",
   "execution_count": 32,
   "id": "4c9b6231",
   "metadata": {},
   "outputs": [
    {
     "data": {
      "text/plain": [
       "Y    7\n",
       "Name: cough, dtype: int64"
      ]
     },
     "execution_count": 32,
     "metadata": {},
     "output_type": "execute_result"
    }
   ],
   "source": [
    "df['cough'].value_counts()"
   ]
  },
  {
   "cell_type": "code",
   "execution_count": 33,
   "id": "b53e0281",
   "metadata": {},
   "outputs": [
    {
     "data": {
      "text/plain": [
       "Y - GRADE 4    7\n",
       "Y              6\n",
       "Name: sob, dtype: int64"
      ]
     },
     "execution_count": 33,
     "metadata": {},
     "output_type": "execute_result"
    }
   ],
   "source": [
    "df['sob'].value_counts()"
   ]
  },
  {
   "cell_type": "code",
   "execution_count": 36,
   "id": "9668d412",
   "metadata": {},
   "outputs": [
    {
     "data": {
      "text/plain": [
       "Y    7\n",
       "Name: weakness, dtype: int64"
      ]
     },
     "execution_count": 36,
     "metadata": {},
     "output_type": "execute_result"
    }
   ],
   "source": [
    "df['weakness'].value_counts()"
   ]
  },
  {
   "cell_type": "code",
   "execution_count": 38,
   "id": "afba9b1f",
   "metadata": {},
   "outputs": [
    {
     "data": {
      "text/plain": [
       "Body pain                               1\n",
       "Myalgia                                 1\n",
       "Myalgia high grade fever with chills    1\n",
       "High grade fever                        1\n",
       "Name: other_symptoms, dtype: int64"
      ]
     },
     "execution_count": 38,
     "metadata": {},
     "output_type": "execute_result"
    }
   ],
   "source": [
    "df['other_symptoms'].value_counts()"
   ]
  },
  {
   "cell_type": "code",
   "execution_count": 49,
   "id": "0dcfb791",
   "metadata": {},
   "outputs": [
    {
     "data": {
      "text/plain": [
       "K/C/O Swine flu 2018 since then patient was on home oxygen therapy    1\n",
       "Name: other_comorbidity, dtype: int64"
      ]
     },
     "execution_count": 49,
     "metadata": {},
     "output_type": "execute_result"
    }
   ],
   "source": [
    "df['other_comorbidity'].value_counts()"
   ]
  },
  {
   "cell_type": "markdown",
   "id": "86235972",
   "metadata": {},
   "source": [
    "<table>\n",
    "    <caption><strong>Baseline Characetristics and demographics</strong></caption>\n",
    "    <tr><th>&nbsp;</th><th>Variable(number/value)</th><th>Percentage</th></tr>\n",
    "<tr><td>Total Number of patients</td><td>13</td><td>100</td></tr>\n",
    "<tr><th>Age in years</th><th colspan=\"2\">&nbsp;</th></tr>\n",
    "<tr><td>Data Available</td><td>13</td><td>100</td></tr>\n",
    "<tr><td>Mean <span>&#177;</span>SD</td><td>66.7<span>&#177;</span> 13</td><td>&nbsp;</td></tr>\n",
    "<tr><td>Range (Min-Max) years</td><td>36 - 84</td><td>&nbsp;</td></tr>\n",
    "<tr><th>Gender</th><th colspan=\"2\">&nbsp;</th></tr>\n",
    "<tr><td>Data Available</td><td>13</td><td>100</td></tr>\n",
    "<tr><td>Male</td><td>11</td><td>85</td></tr>\n",
    "<tr><td>Female</td><td>2</td><td>15</td></tr>\n",
    "<tr><th>Weight in Kgs</th><th colspan=\"2\">&nbsp;</th></tr>\n",
    "<tr><td>Data Available</td><td>10</td><td>77</td></tr>\n",
    "<tr><td>Mean <span>&#177;</span>SD</td><td>74<span>&#177;</span>11</td><td>&nbsp;</td></tr>\n",
    "<tr><td>Range (Min-Max) kgs</td><td>52 - 95</td><td>&nbsp;</td></tr>\n",
    "<tr><th>Symptoms and Comorbidities</th><th colspan=\"2\">&nbsp;</th></tr>\n",
    "<tr><th>Symptoms</th><th colspan=\"2\">&nbsp;</th></tr>\n",
    "<tr><td>Fever</td><td>4</td><td>30.77</td></tr>\n",
    "<tr><td>Cough</td><td>7</td><td>53.85</td></tr>\n",
    "<tr><td>Weakness</td><td>7</td><td>53.85</td></tr>\n",
    "<tr><td>Appetite Loss</td><td>2</td><td>15.38</td></tr>\n",
    "<tr><th>Other Symptoms</th><th>4</th><th>30.76</th></tr>\n",
    "<tr><td>Body pain </td><td>1</td><td>7.69</td></tr>\n",
    "<tr><td>Myalgia</td><td>1</td><td>7.69</td></tr>\n",
    "<tr><td>Myalgia high grade fever with chills</td><td>1</td><td>7.69</td></tr>\n",
    "<tr><td>High grade fever</td><td>1</td><td>7.69</td></tr>\n",
    "<tr><th>Shortness of breath</th><th colspan=\"2\">&nbsp;</th></tr>\n",
    "<tr><td>Data Available</td><td>13</td><td>100</td></tr>\n",
    "<tr><td>Y</td><td>6</td><td>46.15</td></tr>\n",
    "<tr><td>Y- GRADE 4</td><td>7</td><td>53.84</td></tr>\n",
    "<tr><th>Comorbidities</th><th colspan=\"2\">&nbsp;</th></tr>\n",
    "    <tr><td>Diabetes Melitus</td><td>8</td><td>61.5</td></tr>\n",
    "    <tr><td>Hypertension</td><td>9</td><td>69.2</td></tr>\n",
    "    <tr><td>Other Comobidities</td><td>1</td><td>7.69</td></tr>\n",
    "</table>"
   ]
  },
  {
   "cell_type": "code",
   "execution_count": null,
   "id": "5e0f81fb",
   "metadata": {},
   "outputs": [],
   "source": []
  }
 ],
 "metadata": {
  "kernelspec": {
   "display_name": "Python 3 (ipykernel)",
   "language": "python",
   "name": "python3"
  },
  "language_info": {
   "codemirror_mode": {
    "name": "ipython",
    "version": 3
   },
   "file_extension": ".py",
   "mimetype": "text/x-python",
   "name": "python",
   "nbconvert_exporter": "python",
   "pygments_lexer": "ipython3",
   "version": "3.9.13"
  }
 },
 "nbformat": 4,
 "nbformat_minor": 5
}
