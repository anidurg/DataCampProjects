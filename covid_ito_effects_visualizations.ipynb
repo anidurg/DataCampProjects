{
 "cells": [
  {
   "cell_type": "markdown",
   "id": "d6084d14",
   "metadata": {},
   "source": [
    "## Data Analysis of Itolizuma drug in Covid cases<a id='main'>"
   ]
  },
  {
   "cell_type": "markdown",
   "id": "d367f926",
   "metadata": {},
   "source": [
    "## Contents<a id='Contents'></a>\n",
    "* [Data Analysis of Itolizuma drug in Covid cases](#main)\n",
    "  * [Contents](#Contents)\n",
    "    * [Import Libraries](#imports)\n",
    "    * [Load Data](#load_data)\n",
    "    * [Baseline Characetristics and demographics](#baseline_characteristics_demographics)\n",
    "    * [Mode of Oxygen delivery at admission](#oxygen_status)\n",
    "    * [Biochemical Parameter Subplots](#subplots)\n",
    "                 \n",
    "  * [Discussion](#discussion)\n",
    "  * [Conclusion](#conclusion)"
   ]
  },
  {
   "cell_type": "markdown",
   "id": "f9b2c37b",
   "metadata": {},
   "source": [
    "### Import Libraries<a id='imports'>"
   ]
  },
  {
   "cell_type": "code",
   "execution_count": 1,
   "id": "acca0b0d",
   "metadata": {},
   "outputs": [
    {
     "name": "stdout",
     "output_type": "stream",
     "text": [
      "Loaded Libraries\n"
     ]
    }
   ],
   "source": [
    "%matplotlib inline\n",
    "#\n",
    "# data manipulation and math\n",
    "#\n",
    "import numpy as np\n",
    "import pandas as pd\n",
    "#\n",
    "# plotting\n",
    "import matplotlib.pyplot as plt\n",
    "import seaborn as sns\n",
    "#\n",
    "\n",
    "print(\"Loaded Libraries\")\n",
    "import warnings\n",
    "warnings.filterwarnings('ignore')"
   ]
  },
  {
   "cell_type": "markdown",
   "id": "8a2fe686",
   "metadata": {},
   "source": [
    "### Load Data<a id='load_data'>"
   ]
  },
  {
   "cell_type": "code",
   "execution_count": 2,
   "id": "baf0def9",
   "metadata": {},
   "outputs": [],
   "source": [
    "df_xls = pd.read_excel('ito_covid_data_v_1.xlsx', index_col=0)  "
   ]
  },
  {
   "cell_type": "code",
   "execution_count": 3,
   "id": "745f5fb7",
   "metadata": {},
   "outputs": [
    {
     "data": {
      "text/html": [
       "<div>\n",
       "<style scoped>\n",
       "    .dataframe tbody tr th:only-of-type {\n",
       "        vertical-align: middle;\n",
       "    }\n",
       "\n",
       "    .dataframe tbody tr th {\n",
       "        vertical-align: top;\n",
       "    }\n",
       "\n",
       "    .dataframe thead th {\n",
       "        text-align: right;\n",
       "    }\n",
       "</style>\n",
       "<table border=\"1\" class=\"dataframe\">\n",
       "  <thead>\n",
       "    <tr style=\"text-align: right;\">\n",
       "      <th></th>\n",
       "      <th>admission_date</th>\n",
       "      <th>patient_num</th>\n",
       "      <th>age_yrs</th>\n",
       "      <th>weight_kg</th>\n",
       "      <th>gender</th>\n",
       "      <th>fever</th>\n",
       "      <th>cough</th>\n",
       "      <th>sob</th>\n",
       "      <th>weakness</th>\n",
       "      <th>appetite_loss</th>\n",
       "      <th>...</th>\n",
       "      <th>lymphocyte_cnt_at_discharge</th>\n",
       "      <th>platelets_pre_ito_1</th>\n",
       "      <th>platelets_pre_ito_2</th>\n",
       "      <th>platelets_pre_ito_worst</th>\n",
       "      <th>platelets_post_ito_1</th>\n",
       "      <th>platelets_post_ito_2</th>\n",
       "      <th>platelets_at_discharge</th>\n",
       "      <th>discharge_date</th>\n",
       "      <th>hospital_duration</th>\n",
       "      <th>is_dead</th>\n",
       "    </tr>\n",
       "    <tr>\n",
       "      <th>s_no</th>\n",
       "      <th></th>\n",
       "      <th></th>\n",
       "      <th></th>\n",
       "      <th></th>\n",
       "      <th></th>\n",
       "      <th></th>\n",
       "      <th></th>\n",
       "      <th></th>\n",
       "      <th></th>\n",
       "      <th></th>\n",
       "      <th></th>\n",
       "      <th></th>\n",
       "      <th></th>\n",
       "      <th></th>\n",
       "      <th></th>\n",
       "      <th></th>\n",
       "      <th></th>\n",
       "      <th></th>\n",
       "      <th></th>\n",
       "      <th></th>\n",
       "      <th></th>\n",
       "    </tr>\n",
       "  </thead>\n",
       "  <tbody>\n",
       "    <tr>\n",
       "      <th>1</th>\n",
       "      <td>2021-01-07</td>\n",
       "      <td>P1</td>\n",
       "      <td>58</td>\n",
       "      <td>75.0</td>\n",
       "      <td>M</td>\n",
       "      <td>NaN</td>\n",
       "      <td>NaN</td>\n",
       "      <td>Y</td>\n",
       "      <td>Y</td>\n",
       "      <td>NaN</td>\n",
       "      <td>...</td>\n",
       "      <td>10800.0</td>\n",
       "      <td>2.9</td>\n",
       "      <td>3.6</td>\n",
       "      <td>2.9</td>\n",
       "      <td>4.0</td>\n",
       "      <td>4.1</td>\n",
       "      <td>4.2</td>\n",
       "      <td>2021-01-27</td>\n",
       "      <td>20</td>\n",
       "      <td>N</td>\n",
       "    </tr>\n",
       "    <tr>\n",
       "      <th>2</th>\n",
       "      <td>2021-01-07</td>\n",
       "      <td>P2</td>\n",
       "      <td>84</td>\n",
       "      <td>76.0</td>\n",
       "      <td>M</td>\n",
       "      <td>NaN</td>\n",
       "      <td>NaN</td>\n",
       "      <td>Y - GRADE 4</td>\n",
       "      <td>Y</td>\n",
       "      <td>NaN</td>\n",
       "      <td>...</td>\n",
       "      <td>14000.0</td>\n",
       "      <td>2.6</td>\n",
       "      <td>2.1</td>\n",
       "      <td>2.1</td>\n",
       "      <td>3.3</td>\n",
       "      <td>3.3</td>\n",
       "      <td>3.3</td>\n",
       "      <td>2021-01-25</td>\n",
       "      <td>18</td>\n",
       "      <td>N</td>\n",
       "    </tr>\n",
       "    <tr>\n",
       "      <th>3</th>\n",
       "      <td>2021-01-14</td>\n",
       "      <td>P3</td>\n",
       "      <td>53</td>\n",
       "      <td>75.0</td>\n",
       "      <td>M</td>\n",
       "      <td>NaN</td>\n",
       "      <td>Y</td>\n",
       "      <td>Y - GRADE 4</td>\n",
       "      <td>NaN</td>\n",
       "      <td>NaN</td>\n",
       "      <td>...</td>\n",
       "      <td>5800.0</td>\n",
       "      <td>2.8</td>\n",
       "      <td>2.6</td>\n",
       "      <td>2.6</td>\n",
       "      <td>1.8</td>\n",
       "      <td>1.8</td>\n",
       "      <td>2.8</td>\n",
       "      <td>2021-02-08</td>\n",
       "      <td>25</td>\n",
       "      <td>N</td>\n",
       "    </tr>\n",
       "    <tr>\n",
       "      <th>4</th>\n",
       "      <td>2021-01-09</td>\n",
       "      <td>P4</td>\n",
       "      <td>69</td>\n",
       "      <td>95.0</td>\n",
       "      <td>M</td>\n",
       "      <td>NaN</td>\n",
       "      <td>Y</td>\n",
       "      <td>Y - GRADE 4</td>\n",
       "      <td>NaN</td>\n",
       "      <td>NaN</td>\n",
       "      <td>...</td>\n",
       "      <td>13000.0</td>\n",
       "      <td>3.7</td>\n",
       "      <td>NaN</td>\n",
       "      <td>3.7</td>\n",
       "      <td>3.3</td>\n",
       "      <td>3.3</td>\n",
       "      <td>3.3</td>\n",
       "      <td>2021-01-23</td>\n",
       "      <td>14</td>\n",
       "      <td>N</td>\n",
       "    </tr>\n",
       "    <tr>\n",
       "      <th>5</th>\n",
       "      <td>2020-11-20</td>\n",
       "      <td>P5</td>\n",
       "      <td>77</td>\n",
       "      <td>65.0</td>\n",
       "      <td>M</td>\n",
       "      <td>NaN</td>\n",
       "      <td>NaN</td>\n",
       "      <td>Y - GRADE 4</td>\n",
       "      <td>Y</td>\n",
       "      <td>NaN</td>\n",
       "      <td>...</td>\n",
       "      <td>30100.0</td>\n",
       "      <td>1.9</td>\n",
       "      <td>2.0</td>\n",
       "      <td>1.9</td>\n",
       "      <td>1.9</td>\n",
       "      <td>1.6</td>\n",
       "      <td>6.0</td>\n",
       "      <td>2020-12-10</td>\n",
       "      <td>20</td>\n",
       "      <td>Y</td>\n",
       "    </tr>\n",
       "  </tbody>\n",
       "</table>\n",
       "<p>5 rows × 79 columns</p>\n",
       "</div>"
      ],
      "text/plain": [
       "     admission_date patient_num  age_yrs  weight_kg gender fever cough  \\\n",
       "s_no                                                                     \n",
       "1        2021-01-07          P1       58       75.0      M   NaN   NaN   \n",
       "2        2021-01-07          P2       84       76.0      M   NaN   NaN   \n",
       "3        2021-01-14          P3       53       75.0      M   NaN     Y   \n",
       "4        2021-01-09          P4       69       95.0      M   NaN     Y   \n",
       "5        2020-11-20          P5       77       65.0      M   NaN   NaN   \n",
       "\n",
       "              sob weakness appetite_loss  ... lymphocyte_cnt_at_discharge  \\\n",
       "s_no                                      ...                               \n",
       "1               Y        Y           NaN  ...                     10800.0   \n",
       "2     Y - GRADE 4        Y           NaN  ...                     14000.0   \n",
       "3     Y - GRADE 4      NaN           NaN  ...                      5800.0   \n",
       "4     Y - GRADE 4      NaN           NaN  ...                     13000.0   \n",
       "5     Y - GRADE 4        Y           NaN  ...                     30100.0   \n",
       "\n",
       "     platelets_pre_ito_1 platelets_pre_ito_2 platelets_pre_ito_worst  \\\n",
       "s_no                                                                   \n",
       "1                    2.9                 3.6                     2.9   \n",
       "2                    2.6                 2.1                     2.1   \n",
       "3                    2.8                 2.6                     2.6   \n",
       "4                    3.7                 NaN                     3.7   \n",
       "5                    1.9                 2.0                     1.9   \n",
       "\n",
       "     platelets_post_ito_1  platelets_post_ito_2  platelets_at_discharge  \\\n",
       "s_no                                                                      \n",
       "1                     4.0                   4.1                     4.2   \n",
       "2                     3.3                   3.3                     3.3   \n",
       "3                     1.8                   1.8                     2.8   \n",
       "4                     3.3                   3.3                     3.3   \n",
       "5                     1.9                   1.6                     6.0   \n",
       "\n",
       "      discharge_date  hospital_duration  is_dead  \n",
       "s_no                                              \n",
       "1         2021-01-27                 20        N  \n",
       "2         2021-01-25                 18        N  \n",
       "3         2021-02-08                 25        N  \n",
       "4         2021-01-23                 14        N  \n",
       "5         2020-12-10                 20        Y  \n",
       "\n",
       "[5 rows x 79 columns]"
      ]
     },
     "execution_count": 3,
     "metadata": {},
     "output_type": "execute_result"
    }
   ],
   "source": [
    "df_xls.head()"
   ]
  },
  {
   "cell_type": "code",
   "execution_count": 4,
   "id": "31b5b368",
   "metadata": {},
   "outputs": [
    {
     "name": "stdout",
     "output_type": "stream",
     "text": [
      "<class 'pandas.core.frame.DataFrame'>\n",
      "Int64Index: 13 entries, 1 to 13\n",
      "Data columns (total 79 columns):\n",
      " #   Column                           Non-Null Count  Dtype         \n",
      "---  ------                           --------------  -----         \n",
      " 0   admission_date                   13 non-null     datetime64[ns]\n",
      " 1   patient_num                      13 non-null     object        \n",
      " 2   age_yrs                          13 non-null     int64         \n",
      " 3   weight_kg                        10 non-null     float64       \n",
      " 4   gender                           13 non-null     object        \n",
      " 5   fever                            4 non-null      object        \n",
      " 6   cough                            7 non-null      object        \n",
      " 7   sob                              13 non-null     object        \n",
      " 8   weakness                         7 non-null      object        \n",
      " 9   appetite_loss                    2 non-null      object        \n",
      " 10  other_symptoms                   4 non-null      object        \n",
      " 11  diabetes_mellitus                8 non-null      object        \n",
      " 12  hypertension                     9 non-null      object        \n",
      " 13  other_comorbidity                1 non-null      object        \n",
      " 14  oxygen_status_at_admission       13 non-null     object        \n",
      " 15  SPO2_pre_ito_1                   10 non-null     float64       \n",
      " 16  SPO2_pre_ito_2                   10 non-null     float64       \n",
      " 17  SPO2_pre_ito_worst               9 non-null      float64       \n",
      " 18  SPO2_post_ito_1                  10 non-null     float64       \n",
      " 19  SPO2_post_ito_2                  10 non-null     float64       \n",
      " 20  SPO2_post_ito_best               10 non-null     float64       \n",
      " 21  SPO2_at_discharge                10 non-null     float64       \n",
      " 22  FiO2_pre_ito_1                   12 non-null     float64       \n",
      " 23  FiO2_pre_ito_2                   13 non-null     int64         \n",
      " 24  FiO2_pre_ito_worst               13 non-null     int64         \n",
      " 25  FiO2_post_ito_1                  13 non-null     int64         \n",
      " 26  FiO2_post_ito_2                  13 non-null     int64         \n",
      " 27  FiO2_at_discharge                10 non-null     float64       \n",
      " 28  FiO2_post_ito_best               13 non-null     int64         \n",
      " 29  PaO2_pre_ito_1                   12 non-null     float64       \n",
      " 30  PaO2_pre_ito_2                   12 non-null     float64       \n",
      " 31  PaO2_post_ito_1                  12 non-null     float64       \n",
      " 32  PaO2_post_ito_2                  12 non-null     float64       \n",
      " 33  PaO2_at_discharge                10 non-null     float64       \n",
      " 34  P_F_pre_ito_1                    11 non-null     float64       \n",
      " 35  P_F_pre_ito_2                    12 non-null     float64       \n",
      " 36  P_F_Pre_ito_worst                11 non-null     float64       \n",
      " 37  P_F_post_ito_1                   12 non-null     float64       \n",
      " 38  P_F_post_ito_2                   12 non-null     float64       \n",
      " 39  P_F_at_discharge                 9 non-null      float64       \n",
      " 40  gcs_pre_ito_1                    10 non-null     float64       \n",
      " 41  gcs_pre_ito_2                    10 non-null     float64       \n",
      " 42  gcs_post_ito_1                   10 non-null     float64       \n",
      " 43  gcs_post_ito_2                   10 non-null     float64       \n",
      " 44  gcs_at_discharge                 9 non-null      float64       \n",
      " 45  crp_mg_dl_pre_ito_1              12 non-null     float64       \n",
      " 46  crp_mg_dl_pre_ito_2              13 non-null     float64       \n",
      " 47  crp_mg_dl_pre_ito_worst          12 non-null     float64       \n",
      " 48  crp_mg_dl_post_ito_1             13 non-null     float64       \n",
      " 49  crp_mg_dl_post_ito_2             13 non-null     float64       \n",
      " 50  crp_mg_dl_at_discharge           13 non-null     float64       \n",
      " 51  d_dimer_ng_ltr_pre_ito_1         12 non-null     float64       \n",
      " 52  d_dimer_ng_ltr_pre_ito_2         6 non-null      float64       \n",
      " 53  d_dimer_ng_ltr_pre_ito_worst     11 non-null     float64       \n",
      " 54  d_dimer_ng_ltr_post_ito_1        9 non-null      float64       \n",
      " 55  d_dimer_ng_ltr_post_ito_2        8 non-null      float64       \n",
      " 56  d_dimer_ng_ltr_at_discharge      8 non-null      float64       \n",
      " 57  s_ferritin_mg_ltr_pre_ito_1      12 non-null     float64       \n",
      " 58  s_ferritin_mg_ltr_pre_ito_2      7 non-null      float64       \n",
      " 59  s_ferritin_mg_ltr_pre_ito_worst  11 non-null     float64       \n",
      " 60  s_ferritin_mg_ltr_post_ito_1     10 non-null     float64       \n",
      " 61  s_ferritin_mg_ltr_post_ito_2     9 non-null      float64       \n",
      " 62  s_ferritin_mg_ltr_at_discharge   7 non-null      float64       \n",
      " 63  lymphocyte_cnt_pre_ito_1         11 non-null     float64       \n",
      " 64  lymphocyte_cnt_pre_ito_2         12 non-null     float64       \n",
      " 65  lymphocyte_cnt_pre_ito_worst     11 non-null     float64       \n",
      " 66  lymphocyte_cnt_post_ito_1        12 non-null     float64       \n",
      " 67  lymphocyte_cnt_post_ito_2        12 non-null     float64       \n",
      " 68  lymphocyte_cnt_post_ito_best     11 non-null     float64       \n",
      " 69  lymphocyte_cnt_at_discharge      12 non-null     float64       \n",
      " 70  platelets_pre_ito_1              9 non-null      float64       \n",
      " 71  platelets_pre_ito_2              9 non-null      float64       \n",
      " 72  platelets_pre_ito_worst          10 non-null     float64       \n",
      " 73  platelets_post_ito_1             10 non-null     float64       \n",
      " 74  platelets_post_ito_2             10 non-null     float64       \n",
      " 75  platelets_at_discharge           10 non-null     float64       \n",
      " 76  discharge_date                   13 non-null     datetime64[ns]\n",
      " 77  hospital_duration                13 non-null     int64         \n",
      " 78  is_dead                          13 non-null     object        \n",
      "dtypes: datetime64[ns](2), float64(57), int64(7), object(13)\n",
      "memory usage: 8.1+ KB\n"
     ]
    }
   ],
   "source": [
    "df_xls.info()"
   ]
  },
  {
   "cell_type": "code",
   "execution_count": 5,
   "id": "a28cc013",
   "metadata": {},
   "outputs": [],
   "source": [
    "df_xls.rename(columns = {'SPO2_pre_ito_worst':'SPO2_pre_ito', 'SPO2_post_ito_best':'SPO2_post_ito',\n",
    "                              'FiO2_pre_ito_worst':'FiO2_pre_ito','FiO2_post_ito_best':'FiO2_post_ito',\n",
    "                        'crp_mg_dl_pre_ito_worst': 'crp_mg_dl_pre_ito', 'crp_mg_dl_at_discharge': 'crp_mg_dl_ppst_ito',\n",
    "                      'd_dimer_ng_ltr_pre_ito_worst':'d_dimer_ng_ltr_pre_ito', 'd_dimer_ng_ltr_at_discharge': 'd_dimer_ng_ltr',\n",
    "                    's_ferritin_mg_ltr_pre_ito_worst':'s_ferritin_mg_ltr_pre_ito', 's_ferritin_mg_ltr_at_discharge': 's_ferritin_mg_ltr_post_ito',\n",
    "                    'lymphocyte_cnt_pre_ito_worst': 'lymphocyte_cnt_pre_ito','lymphocyte_cnt_post_ito_best': 'lymphocyte_cnt_post_ito',\n",
    "                    'platelets_pre_ito_worst':'platelets_pre_ito', 'platelets_at_discharge':'platelets_post_ito'   \n",
    "                \n",
    "                        }, inplace = True)\n",
    "   "
   ]
  },
  {
   "cell_type": "markdown",
   "id": "4b6a2b0c",
   "metadata": {},
   "source": [
    "### Replacing Y(Nasal 15 ltr oxygen) oxygen_status_at_admission label to Y (Nasal)"
   ]
  },
  {
   "cell_type": "code",
   "execution_count": 6,
   "id": "9e206317",
   "metadata": {},
   "outputs": [
    {
     "data": {
      "text/plain": [
       "Index(['(Y)NIV Helmet ', 'Y', 'Y (NRBM)', 'Y (Nasal)',\n",
       "       'Y(Nasal 15 ltr oxygen)'],\n",
       "      dtype='object')"
      ]
     },
     "execution_count": 6,
     "metadata": {},
     "output_type": "execute_result"
    }
   ],
   "source": [
    "labels = df_xls['oxygen_status_at_admission'].value_counts().index\n",
    "labels"
   ]
  },
  {
   "cell_type": "code",
   "execution_count": 7,
   "id": "da0fcd72",
   "metadata": {},
   "outputs": [],
   "source": [
    "df_xls['oxygen_status_at_admission'].loc[(df_xls['oxygen_status_at_admission'] == 'Y(Nasal 15 ltr oxygen)')] = 'Y (Nasal)'"
   ]
  },
  {
   "cell_type": "code",
   "execution_count": 8,
   "id": "470d4642",
   "metadata": {},
   "outputs": [
    {
     "data": {
      "text/plain": [
       "Index(['(Y)NIV Helmet ', 'Y', 'Y (Nasal)', 'Y (NRBM)'], dtype='object')"
      ]
     },
     "execution_count": 8,
     "metadata": {},
     "output_type": "execute_result"
    }
   ],
   "source": [
    "labels = df_xls['oxygen_status_at_admission'].value_counts().index\n",
    "labels"
   ]
  },
  {
   "cell_type": "code",
   "execution_count": 9,
   "id": "21709597",
   "metadata": {},
   "outputs": [],
   "source": [
    "df_xls.rename(columns = {'oxygen_status at_admission':'oxygen_status_at_admission'}, inplace = True)"
   ]
  },
  {
   "cell_type": "code",
   "execution_count": 10,
   "id": "131cc33b",
   "metadata": {},
   "outputs": [
    {
     "data": {
      "text/plain": [
       "(13, 79)"
      ]
     },
     "execution_count": 10,
     "metadata": {},
     "output_type": "execute_result"
    }
   ],
   "source": [
    "df_xls.shape"
   ]
  },
  {
   "cell_type": "code",
   "execution_count": 11,
   "id": "bd779ece",
   "metadata": {},
   "outputs": [
    {
     "data": {
      "text/html": [
       "<div>\n",
       "<style scoped>\n",
       "    .dataframe tbody tr th:only-of-type {\n",
       "        vertical-align: middle;\n",
       "    }\n",
       "\n",
       "    .dataframe tbody tr th {\n",
       "        vertical-align: top;\n",
       "    }\n",
       "\n",
       "    .dataframe thead th {\n",
       "        text-align: right;\n",
       "    }\n",
       "</style>\n",
       "<table border=\"1\" class=\"dataframe\">\n",
       "  <thead>\n",
       "    <tr style=\"text-align: right;\">\n",
       "      <th></th>\n",
       "      <th>patient_num</th>\n",
       "      <th>diabetes_mellitus</th>\n",
       "      <th>hypertension</th>\n",
       "    </tr>\n",
       "    <tr>\n",
       "      <th>s_no</th>\n",
       "      <th></th>\n",
       "      <th></th>\n",
       "      <th></th>\n",
       "    </tr>\n",
       "  </thead>\n",
       "  <tbody>\n",
       "    <tr>\n",
       "      <th>1</th>\n",
       "      <td>P1</td>\n",
       "      <td>Y</td>\n",
       "      <td>Y</td>\n",
       "    </tr>\n",
       "    <tr>\n",
       "      <th>3</th>\n",
       "      <td>P3</td>\n",
       "      <td>Y</td>\n",
       "      <td>Y</td>\n",
       "    </tr>\n",
       "    <tr>\n",
       "      <th>4</th>\n",
       "      <td>P4</td>\n",
       "      <td>Y</td>\n",
       "      <td>Y</td>\n",
       "    </tr>\n",
       "    <tr>\n",
       "      <th>5</th>\n",
       "      <td>P5</td>\n",
       "      <td>Y</td>\n",
       "      <td>Y</td>\n",
       "    </tr>\n",
       "    <tr>\n",
       "      <th>7</th>\n",
       "      <td>P7</td>\n",
       "      <td>Y</td>\n",
       "      <td>Y</td>\n",
       "    </tr>\n",
       "    <tr>\n",
       "      <th>8</th>\n",
       "      <td>P8</td>\n",
       "      <td>Y</td>\n",
       "      <td>Y</td>\n",
       "    </tr>\n",
       "    <tr>\n",
       "      <th>9</th>\n",
       "      <td>P9</td>\n",
       "      <td>Y</td>\n",
       "      <td>Y</td>\n",
       "    </tr>\n",
       "    <tr>\n",
       "      <th>10</th>\n",
       "      <td>P10</td>\n",
       "      <td>Y</td>\n",
       "      <td>Y</td>\n",
       "    </tr>\n",
       "  </tbody>\n",
       "</table>\n",
       "</div>"
      ],
      "text/plain": [
       "     patient_num diabetes_mellitus hypertension\n",
       "s_no                                           \n",
       "1             P1                 Y            Y\n",
       "3             P3                 Y            Y\n",
       "4             P4                 Y            Y\n",
       "5             P5                 Y            Y\n",
       "7             P7                 Y            Y\n",
       "8             P8                 Y            Y\n",
       "9             P9                 Y            Y\n",
       "10           P10                 Y            Y"
      ]
     },
     "execution_count": 11,
     "metadata": {},
     "output_type": "execute_result"
    }
   ],
   "source": [
    "df_xls.loc[(df_xls['diabetes_mellitus'] == 'Y') & (df_xls['hypertension'] == 'Y'),['patient_num','diabetes_mellitus','hypertension']]"
   ]
  },
  {
   "cell_type": "code",
   "execution_count": 12,
   "id": "d71049fd",
   "metadata": {},
   "outputs": [
    {
     "data": {
      "text/html": [
       "<div>\n",
       "<style scoped>\n",
       "    .dataframe tbody tr th:only-of-type {\n",
       "        vertical-align: middle;\n",
       "    }\n",
       "\n",
       "    .dataframe tbody tr th {\n",
       "        vertical-align: top;\n",
       "    }\n",
       "\n",
       "    .dataframe thead th {\n",
       "        text-align: right;\n",
       "    }\n",
       "</style>\n",
       "<table border=\"1\" class=\"dataframe\">\n",
       "  <thead>\n",
       "    <tr style=\"text-align: right;\">\n",
       "      <th></th>\n",
       "      <th>admission_date</th>\n",
       "      <th>patient_num</th>\n",
       "      <th>age_yrs</th>\n",
       "      <th>weight_kg</th>\n",
       "      <th>gender</th>\n",
       "      <th>fever</th>\n",
       "      <th>cough</th>\n",
       "      <th>sob</th>\n",
       "      <th>weakness</th>\n",
       "      <th>appetite_loss</th>\n",
       "      <th>...</th>\n",
       "      <th>lymphocyte_cnt_at_discharge</th>\n",
       "      <th>platelets_pre_ito_1</th>\n",
       "      <th>platelets_pre_ito_2</th>\n",
       "      <th>platelets_pre_ito</th>\n",
       "      <th>platelets_post_ito_1</th>\n",
       "      <th>platelets_post_ito_2</th>\n",
       "      <th>platelets_post_ito</th>\n",
       "      <th>discharge_date</th>\n",
       "      <th>hospital_duration</th>\n",
       "      <th>is_dead</th>\n",
       "    </tr>\n",
       "    <tr>\n",
       "      <th>s_no</th>\n",
       "      <th></th>\n",
       "      <th></th>\n",
       "      <th></th>\n",
       "      <th></th>\n",
       "      <th></th>\n",
       "      <th></th>\n",
       "      <th></th>\n",
       "      <th></th>\n",
       "      <th></th>\n",
       "      <th></th>\n",
       "      <th></th>\n",
       "      <th></th>\n",
       "      <th></th>\n",
       "      <th></th>\n",
       "      <th></th>\n",
       "      <th></th>\n",
       "      <th></th>\n",
       "      <th></th>\n",
       "      <th></th>\n",
       "      <th></th>\n",
       "      <th></th>\n",
       "    </tr>\n",
       "  </thead>\n",
       "  <tbody>\n",
       "    <tr>\n",
       "      <th>6</th>\n",
       "      <td>2020-11-25</td>\n",
       "      <td>P6</td>\n",
       "      <td>68</td>\n",
       "      <td>72.0</td>\n",
       "      <td>M</td>\n",
       "      <td>NaN</td>\n",
       "      <td>NaN</td>\n",
       "      <td>Y - GRADE 4</td>\n",
       "      <td>NaN</td>\n",
       "      <td>NaN</td>\n",
       "      <td>...</td>\n",
       "      <td>15900.0</td>\n",
       "      <td>2.4</td>\n",
       "      <td>3.3</td>\n",
       "      <td>2.4</td>\n",
       "      <td>3.3</td>\n",
       "      <td>1.2</td>\n",
       "      <td>0.9</td>\n",
       "      <td>2020-12-10</td>\n",
       "      <td>15</td>\n",
       "      <td>N</td>\n",
       "    </tr>\n",
       "    <tr>\n",
       "      <th>11</th>\n",
       "      <td>2021-03-15</td>\n",
       "      <td>P11</td>\n",
       "      <td>78</td>\n",
       "      <td>NaN</td>\n",
       "      <td>M</td>\n",
       "      <td>Y</td>\n",
       "      <td>NaN</td>\n",
       "      <td>Y</td>\n",
       "      <td>Y</td>\n",
       "      <td>Y</td>\n",
       "      <td>...</td>\n",
       "      <td>9920.0</td>\n",
       "      <td>NaN</td>\n",
       "      <td>NaN</td>\n",
       "      <td>NaN</td>\n",
       "      <td>NaN</td>\n",
       "      <td>NaN</td>\n",
       "      <td>NaN</td>\n",
       "      <td>2021-04-03</td>\n",
       "      <td>19</td>\n",
       "      <td>N</td>\n",
       "    </tr>\n",
       "    <tr>\n",
       "      <th>12</th>\n",
       "      <td>2021-03-19</td>\n",
       "      <td>P12</td>\n",
       "      <td>54</td>\n",
       "      <td>NaN</td>\n",
       "      <td>M</td>\n",
       "      <td>Y</td>\n",
       "      <td>Y</td>\n",
       "      <td>Y</td>\n",
       "      <td>Y</td>\n",
       "      <td>NaN</td>\n",
       "      <td>...</td>\n",
       "      <td>NaN</td>\n",
       "      <td>NaN</td>\n",
       "      <td>NaN</td>\n",
       "      <td>NaN</td>\n",
       "      <td>NaN</td>\n",
       "      <td>NaN</td>\n",
       "      <td>NaN</td>\n",
       "      <td>2021-04-14</td>\n",
       "      <td>26</td>\n",
       "      <td>N</td>\n",
       "    </tr>\n",
       "    <tr>\n",
       "      <th>13</th>\n",
       "      <td>2021-04-07</td>\n",
       "      <td>P13</td>\n",
       "      <td>36</td>\n",
       "      <td>NaN</td>\n",
       "      <td>M</td>\n",
       "      <td>Y</td>\n",
       "      <td>Y</td>\n",
       "      <td>Y</td>\n",
       "      <td>Y</td>\n",
       "      <td>Y</td>\n",
       "      <td>...</td>\n",
       "      <td>7670.0</td>\n",
       "      <td>NaN</td>\n",
       "      <td>NaN</td>\n",
       "      <td>NaN</td>\n",
       "      <td>NaN</td>\n",
       "      <td>NaN</td>\n",
       "      <td>NaN</td>\n",
       "      <td>2021-04-20</td>\n",
       "      <td>13</td>\n",
       "      <td>N</td>\n",
       "    </tr>\n",
       "  </tbody>\n",
       "</table>\n",
       "<p>4 rows × 79 columns</p>\n",
       "</div>"
      ],
      "text/plain": [
       "     admission_date patient_num  age_yrs  weight_kg gender fever cough  \\\n",
       "s_no                                                                     \n",
       "6        2020-11-25          P6       68       72.0      M   NaN   NaN   \n",
       "11       2021-03-15         P11       78        NaN      M     Y   NaN   \n",
       "12       2021-03-19         P12       54        NaN      M     Y     Y   \n",
       "13       2021-04-07         P13       36        NaN      M     Y     Y   \n",
       "\n",
       "              sob weakness appetite_loss  ... lymphocyte_cnt_at_discharge  \\\n",
       "s_no                                      ...                               \n",
       "6     Y - GRADE 4      NaN           NaN  ...                     15900.0   \n",
       "11              Y        Y             Y  ...                      9920.0   \n",
       "12              Y        Y           NaN  ...                         NaN   \n",
       "13              Y        Y             Y  ...                      7670.0   \n",
       "\n",
       "     platelets_pre_ito_1 platelets_pre_ito_2 platelets_pre_ito  \\\n",
       "s_no                                                             \n",
       "6                    2.4                 3.3               2.4   \n",
       "11                   NaN                 NaN               NaN   \n",
       "12                   NaN                 NaN               NaN   \n",
       "13                   NaN                 NaN               NaN   \n",
       "\n",
       "     platelets_post_ito_1  platelets_post_ito_2  platelets_post_ito  \\\n",
       "s_no                                                                  \n",
       "6                     3.3                   1.2                 0.9   \n",
       "11                    NaN                   NaN                 NaN   \n",
       "12                    NaN                   NaN                 NaN   \n",
       "13                    NaN                   NaN                 NaN   \n",
       "\n",
       "      discharge_date  hospital_duration  is_dead  \n",
       "s_no                                              \n",
       "6         2020-12-10                 15        N  \n",
       "11        2021-04-03                 19        N  \n",
       "12        2021-04-14                 26        N  \n",
       "13        2021-04-20                 13        N  \n",
       "\n",
       "[4 rows x 79 columns]"
      ]
     },
     "execution_count": 12,
     "metadata": {},
     "output_type": "execute_result"
    }
   ],
   "source": [
    "df_xls.loc[(df_xls['diabetes_mellitus'] != 'Y') & (df_xls['hypertension'] != 'Y') & (df_xls['other_comorbidity'] != 'Y')]"
   ]
  },
  {
   "cell_type": "code",
   "execution_count": 13,
   "id": "c9e0e93e",
   "metadata": {},
   "outputs": [
    {
     "data": {
      "text/plain": [
       "0.07692307692307693"
      ]
     },
     "execution_count": 13,
     "metadata": {},
     "output_type": "execute_result"
    }
   ],
   "source": [
    "(1/13)"
   ]
  },
  {
   "cell_type": "markdown",
   "id": "46a543ef",
   "metadata": {},
   "source": [
    "### Baseline Characetristics and demographics<a id='baseline_characteristics_demographics'>"
   ]
  },
  {
   "cell_type": "markdown",
   "id": "d2a565a2",
   "metadata": {},
   "source": [
    "<table>\n",
    "    <caption><strong>Baseline Characetristics and demographics</strong></caption>\n",
    "    <tr><th>&nbsp;</th><th>Variable(number/value)</th><th>Percentage</th></tr>\n",
    "<tr><td>Total Number of patients</td><td>13</td><td>100</td></tr>\n",
    "<tr><th>Age in years</th><th colspan=\"2\">&nbsp;</th></tr>\n",
    "<tr><td>Data Available</td><td>13</td><td>100</td></tr>\n",
    "<tr><td>Mean <span>&#177;</span>SD</td><td>66.7<span>&#177;</span> 13</td><td>&nbsp;</td></tr>\n",
    "<tr><td>Range (Min-Max) years</td><td>36 - 84</td><td>&nbsp;</td></tr>\n",
    "<tr><th>Gender</th><th colspan=\"2\">&nbsp;</th></tr>\n",
    "<tr><td>Data Available</td><td>13</td><td>100</td></tr>\n",
    "<tr><td>Male</td><td>11</td><td>85</td></tr>\n",
    "<tr><td>Female</td><td>2</td><td>15</td></tr>\n",
    "<tr><th>Weight in Kgs</th><th colspan=\"2\">&nbsp;</th></tr>\n",
    "<tr><td>Data Available</td><td>10</td><td>77</td></tr>\n",
    "<tr><td>Mean <span>&#177;</span>SD</td><td>74<span>&#177;</span>11</td><td>&nbsp;</td></tr>\n",
    "<tr><td>Range (Min-Max) kgs</td><td>52 - 95</td><td>&nbsp;</td></tr>\n",
    "<tr><th>Symptoms and Comorbidities</th><th colspan=\"2\">&nbsp;</th></tr>\n",
    "<tr><th>Symptoms</th><th colspan=\"2\">&nbsp;</th></tr>\n",
    "<tr><td>Fever</td><td>4</td><td>31</td></tr>\n",
    "<tr><td>Cough</td><td>7</td><td>54</td></tr>\n",
    "<tr><td>Weakness</td><td>7</td><td>54</td></tr>\n",
    "<tr><td>Appetite Loss</td><td>2</td><td>15</td></tr>\n",
    "<tr><td>Shortness of breath</td><td>13</td><td>100</td></tr>\n",
    "<!-- <tr><td>Y</td><td>6</td><td>46</td></tr>\n",
    " <tr><td>Y- GRADE 4</td><td>7</td><td>54</td></tr> -->\n",
    "<tr><th>Other Symptoms</th><th>4</th><th>31</th></tr>\n",
    "<tr><td>Body pain </td><td>1</td><td>8</td></tr>\n",
    "<tr><td>Myalgia</td><td>1</td><td>8</td></tr>\n",
    "<tr><td>Myalgia high grade fever with chills</td><td>1</td><td>8</td></tr>\n",
    "<tr><td>High grade fever</td><td>1</td><td>8</td></tr>\n",
    "    <tr><th>Comorbidities</th><th>9</th><th>69</th></tr>\n",
    "    <tr><td>Diabetes Melitus and Hypertension</td><td>8</td><td>62</td></tr>\n",
    "    <tr><td>Other Comorbidities</td><td>1</td><td>7</td></tr>\n",
    "</table>"
   ]
  },
  {
   "cell_type": "markdown",
   "id": "da4a54fc",
   "metadata": {},
   "source": [
    "### Mode of Oxygen delivery at admission<a id='oxygen_status'>"
   ]
  },
  {
   "cell_type": "code",
   "execution_count": 14,
   "id": "0b638d61",
   "metadata": {},
   "outputs": [
    {
     "data": {
      "image/png": "[encoded data removed]",
      "text/plain": [
       "<Figure size 2000x1500 with 1 Axes>"
      ]
     },
     "metadata": {},
     "output_type": "display_data"
    },
    {
     "data": {
      "text/plain": [
       "<Figure size 640x480 with 0 Axes>"
      ]
     },
     "metadata": {},
     "output_type": "display_data"
    }
   ],
   "source": [
    "#define data\n",
    "data =df_xls['oxygen_status_at_admission'].value_counts()\n",
    "labels = df_xls['oxygen_status_at_admission'].value_counts().index\n",
    "plt.figure(figsize=(4,3), dpi=500)\n",
    "#define Seaborn color palette to use\n",
    "colors = sns.color_palette('pastel')[0:5]\n",
    "\n",
    "#create pie chart\n",
    "plt.pie(data, labels = labels, colors = colors, autopct='%.0f%%')\n",
    "plt.show()\n",
    "plt.savefig('pie_oxygen.png')"
   ]
  },
  {
   "cell_type": "markdown",
   "id": "3656052e",
   "metadata": {},
   "source": [
    "### Biochemical Parameter Subplots<a id='subplots'>"
   ]
  },
  {
   "cell_type": "code",
   "execution_count": 71,
   "id": "15c7a436",
   "metadata": {},
   "outputs": [
    {
     "data": {
      "application/vnd.plotly.v1+json": {
       "config": {
        "plotlyServerURL": "https://plot.ly"
       },
       "data": [
        {
         "quartilemethod": "exclusive",
         "type": "box",
         "x": [
          "Pre_Ito",
          "Pre_Ito",
          "Pre_Ito",
          "Pre_Ito",
          "Pre_Ito",
          "Pre_Ito",
          "Pre_Ito",
          "Pre_Ito",
          "Pre_Ito",
          "Pre_Ito",
          "Pre_Ito",
          "Pre_Ito",
          "Pre_Ito",
          "Post_Ito",
          "Post_Ito",
          "Post_Ito",
          "Post_Ito",
          "Post_Ito",
          "Post_Ito",
          "Post_Ito",
          "Post_Ito",
          "Post_Ito",
          "Post_Ito",
          "Post_Ito",
          "Post_Ito",
          "Post_Ito"
         ],
         "xaxis": "x",
         "y": [
          95,
          96,
          93,
          95,
          94,
          95,
          91,
          null,
          91,
          98,
          null,
          null,
          null,
          97,
          99,
          97,
          98,
          92,
          97,
          90,
          95,
          97,
          100,
          null,
          null,
          null
         ],
         "yaxis": "y"
        },
        {
         "quartilemethod": "exclusive",
         "type": "box",
         "x": [
          "Pre_Ito",
          "Pre_Ito",
          "Pre_Ito",
          "Pre_Ito",
          "Pre_Ito",
          "Pre_Ito",
          "Pre_Ito",
          "Pre_Ito",
          "Pre_Ito",
          "Pre_Ito",
          "Pre_Ito",
          "Pre_Ito",
          "Pre_Ito",
          "Post_Ito",
          "Post_Ito",
          "Post_Ito",
          "Post_Ito",
          "Post_Ito",
          "Post_Ito",
          "Post_Ito",
          "Post_Ito",
          "Post_Ito",
          "Post_Ito",
          "Post_Ito",
          "Post_Ito",
          "Post_Ito"
         ],
         "xaxis": "x2",
         "y": [
          614,
          967,
          1004.8,
          112,
          93.4,
          null,
          462,
          319,
          1500,
          23.5,
          1760,
          1279,
          null,
          315.8,
          423,
          688,
          null,
          100,
          null,
          null,
          null,
          null,
          null,
          520,
          326,
          398
         ],
         "yaxis": "y2"
        },
        {
         "quartilemethod": "exclusive",
         "type": "box",
         "x": [
          "Pre_Ito",
          "Pre_Ito",
          "Pre_Ito",
          "Pre_Ito",
          "Pre_Ito",
          "Pre_Ito",
          "Pre_Ito",
          "Pre_Ito",
          "Pre_Ito",
          "Pre_Ito",
          "Pre_Ito",
          "Pre_Ito",
          "Pre_Ito",
          "Post_Ito",
          "Post_Ito",
          "Post_Ito",
          "Post_Ito",
          "Post_Ito",
          "Post_Ito",
          "Post_Ito",
          "Post_Ito",
          "Post_Ito",
          "Post_Ito",
          "Post_Ito",
          "Post_Ito",
          "Post_Ito"
         ],
         "xaxis": "x3",
         "y": [
          9800,
          16000,
          11700,
          10000,
          23100,
          11300,
          9800,
          9500,
          4000,
          5300,
          16100,
          null,
          null,
          13700,
          21100,
          9700,
          14100,
          20200,
          29300,
          14400,
          13900,
          7100,
          8800,
          13900,
          null,
          null
         ],
         "yaxis": "y3"
        },
        {
         "quartilemethod": "exclusive",
         "type": "box",
         "x": [
          "Pre_Ito",
          "Pre_Ito",
          "Pre_Ito",
          "Pre_Ito",
          "Pre_Ito",
          "Pre_Ito",
          "Pre_Ito",
          "Pre_Ito",
          "Pre_Ito",
          "Pre_Ito",
          "Pre_Ito",
          "Pre_Ito",
          "Pre_Ito",
          "Post_Ito",
          "Post_Ito",
          "Post_Ito",
          "Post_Ito",
          "Post_Ito",
          "Post_Ito",
          "Post_Ito",
          "Post_Ito",
          "Post_Ito",
          "Post_Ito",
          "Post_Ito",
          "Post_Ito",
          "Post_Ito"
         ],
         "xaxis": "x4",
         "y": [
          2.9,
          2.1,
          2.6,
          3.7,
          1.9,
          2.4,
          1.7,
          2.1,
          1.5,
          3.1,
          null,
          null,
          null,
          4.2,
          3.3,
          2.8,
          3.3,
          6,
          0.9,
          0.94,
          2.8,
          2.5,
          3.2,
          null,
          null,
          null
         ],
         "yaxis": "y4"
        }
       ],
       "layout": {
        "annotations": [
         {
          "font": {
           "size": 16
          },
          "showarrow": false,
          "text": "SPO2",
          "x": 0.225,
          "xanchor": "center",
          "xref": "paper",
          "y": 1,
          "yanchor": "bottom",
          "yref": "paper"
         },
         {
          "font": {
           "size": 16
          },
          "showarrow": false,
          "text": "Ferritin",
          "x": 0.775,
          "xanchor": "center",
          "xref": "paper",
          "y": 1,
          "yanchor": "bottom",
          "yref": "paper"
         },
         {
          "font": {
           "size": 16
          },
          "showarrow": false,
          "text": "Lymphocytes",
          "x": 0.225,
          "xanchor": "center",
          "xref": "paper",
          "y": 0.375,
          "yanchor": "bottom",
          "yref": "paper"
         },
         {
          "font": {
           "size": 16
          },
          "showarrow": false,
          "text": "Platelets",
          "x": 0.775,
          "xanchor": "center",
          "xref": "paper",
          "y": 0.375,
          "yanchor": "bottom",
          "yref": "paper"
         }
        ],
        "height": 800,
        "template": {
         "data": {
          "bar": [
           {
            "error_x": {
             "color": "#2a3f5f"
            },
            "error_y": {
             "color": "#2a3f5f"
            },
            "marker": {
             "line": {
              "color": "#E5ECF6",
              "width": 0.5
             },
             "pattern": {
              "fillmode": "overlay",
              "size": 10,
              "solidity": 0.2
             }
            },
            "type": "bar"
           }
          ],
          "barpolar": [
           {
            "marker": {
             "line": {
              "color": "#E5ECF6",
              "width": 0.5
             },
             "pattern": {
              "fillmode": "overlay",
              "size": 10,
              "solidity": 0.2
             }
            },
            "type": "barpolar"
           }
          ],
          "carpet": [
           {
            "aaxis": {
             "endlinecolor": "#2a3f5f",
             "gridcolor": "white",
             "linecolor": "white",
             "minorgridcolor": "white",
             "startlinecolor": "#2a3f5f"
            },
            "baxis": {
             "endlinecolor": "#2a3f5f",
             "gridcolor": "white",
             "linecolor": "white",
             "minorgridcolor": "white",
             "startlinecolor": "#2a3f5f"
            },
            "type": "carpet"
           }
          ],
          "choropleth": [
           {
            "colorbar": {
             "outlinewidth": 0,
             "ticks": ""
            },
            "type": "choropleth"
           }
          ],
          "contour": [
           {
            "colorbar": {
             "outlinewidth": 0,
             "ticks": ""
            },
            "colorscale": [
             [
              0,
              "#0d0887"
             ],
             [
              0.1111111111111111,
              "#46039f"
             ],
             [
              0.2222222222222222,
              "#7201a8"
             ],
             [
              0.3333333333333333,
              "#9c179e"
             ],
             [
              0.4444444444444444,
              "#bd3786"
             ],
             [
              0.5555555555555556,
              "#d8576b"
             ],
             [
              0.6666666666666666,
              "#ed7953"
             ],
             [
              0.7777777777777778,
              "#fb9f3a"
             ],
             [
              0.8888888888888888,
              "#fdca26"
             ],
             [
              1,
              "#f0f921"
             ]
            ],
            "type": "contour"
           }
          ],
          "contourcarpet": [
           {
            "colorbar": {
             "outlinewidth": 0,
             "ticks": ""
            },
            "type": "contourcarpet"
           }
          ],
          "heatmap": [
           {
            "colorbar": {
             "outlinewidth": 0,
             "ticks": ""
            },
            "colorscale": [
             [
              0,
              "#0d0887"
             ],
             [
              0.1111111111111111,
              "#46039f"
             ],
             [
              0.2222222222222222,
              "#7201a8"
             ],
             [
              0.3333333333333333,
              "#9c179e"
             ],
             [
              0.4444444444444444,
              "#bd3786"
             ],
             [
              0.5555555555555556,
              "#d8576b"
             ],
             [
              0.6666666666666666,
              "#ed7953"
             ],
             [
              0.7777777777777778,
              "#fb9f3a"
             ],
             [
              0.8888888888888888,
              "#fdca26"
             ],
             [
              1,
              "#f0f921"
             ]
            ],
            "type": "heatmap"
           }
          ],
          "heatmapgl": [
           {
            "colorbar": {
             "outlinewidth": 0,
             "ticks": ""
            },
            "colorscale": [
             [
              0,
              "#0d0887"
             ],
             [
              0.1111111111111111,
              "#46039f"
             ],
             [
              0.2222222222222222,
              "#7201a8"
             ],
             [
              0.3333333333333333,
              "#9c179e"
             ],
             [
              0.4444444444444444,
              "#bd3786"
             ],
             [
              0.5555555555555556,
              "#d8576b"
             ],
             [
              0.6666666666666666,
              "#ed7953"
             ],
             [
              0.7777777777777778,
              "#fb9f3a"
             ],
             [
              0.8888888888888888,
              "#fdca26"
             ],
             [
              1,
              "#f0f921"
             ]
            ],
            "type": "heatmapgl"
           }
          ],
          "histogram": [
           {
            "marker": {
             "pattern": {
              "fillmode": "overlay",
              "size": 10,
              "solidity": 0.2
             }
            },
            "type": "histogram"
           }
          ],
          "histogram2d": [
           {
            "colorbar": {
             "outlinewidth": 0,
             "ticks": ""
            },
            "colorscale": [
             [
              0,
              "#0d0887"
             ],
             [
              0.1111111111111111,
              "#46039f"
             ],
             [
              0.2222222222222222,
              "#7201a8"
             ],
             [
              0.3333333333333333,
              "#9c179e"
             ],
             [
              0.4444444444444444,
              "#bd3786"
             ],
             [
              0.5555555555555556,
              "#d8576b"
             ],
             [
              0.6666666666666666,
              "#ed7953"
             ],
             [
              0.7777777777777778,
              "#fb9f3a"
             ],
             [
              0.8888888888888888,
              "#fdca26"
             ],
             [
              1,
              "#f0f921"
             ]
            ],
            "type": "histogram2d"
           }
          ],
          "histogram2dcontour": [
           {
            "colorbar": {
             "outlinewidth": 0,
             "ticks": ""
            },
            "colorscale": [
             [
              0,
              "#0d0887"
             ],
             [
              0.1111111111111111,
              "#46039f"
             ],
             [
              0.2222222222222222,
              "#7201a8"
             ],
             [
              0.3333333333333333,
              "#9c179e"
             ],
             [
              0.4444444444444444,
              "#bd3786"
             ],
             [
              0.5555555555555556,
              "#d8576b"
             ],
             [
              0.6666666666666666,
              "#ed7953"
             ],
             [
              0.7777777777777778,
              "#fb9f3a"
             ],
             [
              0.8888888888888888,
              "#fdca26"
             ],
             [
              1,
              "#f0f921"
             ]
            ],
            "type": "histogram2dcontour"
           }
          ],
          "mesh3d": [
           {
            "colorbar": {
             "outlinewidth": 0,
             "ticks": ""
            },
            "type": "mesh3d"
           }
          ],
          "parcoords": [
           {
            "line": {
             "colorbar": {
              "outlinewidth": 0,
              "ticks": ""
             }
            },
            "type": "parcoords"
           }
          ],
          "pie": [
           {
            "automargin": true,
            "type": "pie"
           }
          ],
          "scatter": [
           {
            "fillpattern": {
             "fillmode": "overlay",
             "size": 10,
             "solidity": 0.2
            },
            "type": "scatter"
           }
          ],
          "scatter3d": [
           {
            "line": {
             "colorbar": {
              "outlinewidth": 0,
              "ticks": ""
             }
            },
            "marker": {
             "colorbar": {
              "outlinewidth": 0,
              "ticks": ""
             }
            },
            "type": "scatter3d"
           }
          ],
          "scattercarpet": [
           {
            "marker": {
             "colorbar": {
              "outlinewidth": 0,
              "ticks": ""
             }
            },
            "type": "scattercarpet"
           }
          ],
          "scattergeo": [
           {
            "marker": {
             "colorbar": {
              "outlinewidth": 0,
              "ticks": ""
             }
            },
            "type": "scattergeo"
           }
          ],
          "scattergl": [
           {
            "marker": {
             "colorbar": {
              "outlinewidth": 0,
              "ticks": ""
             }
            },
            "type": "scattergl"
           }
          ],
          "scattermapbox": [
           {
            "marker": {
             "colorbar": {
              "outlinewidth": 0,
              "ticks": ""
             }
            },
            "type": "scattermapbox"
           }
          ],
          "scatterpolar": [
           {
            "marker": {
             "colorbar": {
              "outlinewidth": 0,
              "ticks": ""
             }
            },
            "type": "scatterpolar"
           }
          ],
          "scatterpolargl": [
           {
            "marker": {
             "colorbar": {
              "outlinewidth": 0,
              "ticks": ""
             }
            },
            "type": "scatterpolargl"
           }
          ],
          "scatterternary": [
           {
            "marker": {
             "colorbar": {
              "outlinewidth": 0,
              "ticks": ""
             }
            },
            "type": "scatterternary"
           }
          ],
          "surface": [
           {
            "colorbar": {
             "outlinewidth": 0,
             "ticks": ""
            },
            "colorscale": [
             [
              0,
              "#0d0887"
             ],
             [
              0.1111111111111111,
              "#46039f"
             ],
             [
              0.2222222222222222,
              "#7201a8"
             ],
             [
              0.3333333333333333,
              "#9c179e"
             ],
             [
              0.4444444444444444,
              "#bd3786"
             ],
             [
              0.5555555555555556,
              "#d8576b"
             ],
             [
              0.6666666666666666,
              "#ed7953"
             ],
             [
              0.7777777777777778,
              "#fb9f3a"
             ],
             [
              0.8888888888888888,
              "#fdca26"
             ],
             [
              1,
              "#f0f921"
             ]
            ],
            "type": "surface"
           }
          ],
          "table": [
           {
            "cells": {
             "fill": {
              "color": "#EBF0F8"
             },
             "line": {
              "color": "white"
             }
            },
            "header": {
             "fill": {
              "color": "#C8D4E3"
             },
             "line": {
              "color": "white"
             }
            },
            "type": "table"
           }
          ]
         },
         "layout": {
          "annotationdefaults": {
           "arrowcolor": "#2a3f5f",
           "arrowhead": 0,
           "arrowwidth": 1
          },
          "autotypenumbers": "strict",
          "coloraxis": {
           "colorbar": {
            "outlinewidth": 0,
            "ticks": ""
           }
          },
          "colorscale": {
           "diverging": [
            [
             0,
             "#8e0152"
            ],
            [
             0.1,
             "#c51b7d"
            ],
            [
             0.2,
             "#de77ae"
            ],
            [
             0.3,
             "#f1b6da"
            ],
            [
             0.4,
             "#fde0ef"
            ],
            [
             0.5,
             "#f7f7f7"
            ],
            [
             0.6,
             "#e6f5d0"
            ],
            [
             0.7,
             "#b8e186"
            ],
            [
             0.8,
             "#7fbc41"
            ],
            [
             0.9,
             "#4d9221"
            ],
            [
             1,
             "#276419"
            ]
           ],
           "sequential": [
            [
             0,
             "#0d0887"
            ],
            [
             0.1111111111111111,
             "#46039f"
            ],
            [
             0.2222222222222222,
             "#7201a8"
            ],
            [
             0.3333333333333333,
             "#9c179e"
            ],
            [
             0.4444444444444444,
             "#bd3786"
            ],
            [
             0.5555555555555556,
             "#d8576b"
            ],
            [
             0.6666666666666666,
             "#ed7953"
            ],
            [
             0.7777777777777778,
             "#fb9f3a"
            ],
            [
             0.8888888888888888,
             "#fdca26"
            ],
            [
             1,
             "#f0f921"
            ]
           ],
           "sequentialminus": [
            [
             0,
             "#0d0887"
            ],
            [
             0.1111111111111111,
             "#46039f"
            ],
            [
             0.2222222222222222,
             "#7201a8"
            ],
            [
             0.3333333333333333,
             "#9c179e"
            ],
            [
             0.4444444444444444,
             "#bd3786"
            ],
            [
             0.5555555555555556,
             "#d8576b"
            ],
            [
             0.6666666666666666,
             "#ed7953"
            ],
            [
             0.7777777777777778,
             "#fb9f3a"
            ],
            [
             0.8888888888888888,
             "#fdca26"
            ],
            [
             1,
             "#f0f921"
            ]
           ]
          },
          "colorway": [
           "#636efa",
           "#EF553B",
           "#00cc96",
           "#ab63fa",
           "#FFA15A",
           "#19d3f3",
           "#FF6692",
           "#B6E880",
           "#FF97FF",
           "#FECB52"
          ],
          "font": {
           "color": "#2a3f5f"
          },
          "geo": {
           "bgcolor": "white",
           "lakecolor": "white",
           "landcolor": "#E5ECF6",
           "showlakes": true,
           "showland": true,
           "subunitcolor": "white"
          },
          "hoverlabel": {
           "align": "left"
          },
          "hovermode": "closest",
          "mapbox": {
           "style": "light"
          },
          "paper_bgcolor": "white",
          "plot_bgcolor": "#E5ECF6",
          "polar": {
           "angularaxis": {
            "gridcolor": "white",
            "linecolor": "white",
            "ticks": ""
           },
           "bgcolor": "#E5ECF6",
           "radialaxis": {
            "gridcolor": "white",
            "linecolor": "white",
            "ticks": ""
           }
          },
          "scene": {
           "xaxis": {
            "backgroundcolor": "#E5ECF6",
            "gridcolor": "white",
            "gridwidth": 2,
            "linecolor": "white",
            "showbackground": true,
            "ticks": "",
            "zerolinecolor": "white"
           },
           "yaxis": {
            "backgroundcolor": "#E5ECF6",
            "gridcolor": "white",
            "gridwidth": 2,
            "linecolor": "white",
            "showbackground": true,
            "ticks": "",
            "zerolinecolor": "white"
           },
           "zaxis": {
            "backgroundcolor": "#E5ECF6",
            "gridcolor": "white",
            "gridwidth": 2,
            "linecolor": "white",
            "showbackground": true,
            "ticks": "",
            "zerolinecolor": "white"
           }
          },
          "shapedefaults": {
           "line": {
            "color": "#2a3f5f"
           }
          },
          "ternary": {
           "aaxis": {
            "gridcolor": "white",
            "linecolor": "white",
            "ticks": ""
           },
           "baxis": {
            "gridcolor": "white",
            "linecolor": "white",
            "ticks": ""
           },
           "bgcolor": "#E5ECF6",
           "caxis": {
            "gridcolor": "white",
            "linecolor": "white",
            "ticks": ""
           }
          },
          "title": {
           "x": 0.05
          },
          "xaxis": {
           "automargin": true,
           "gridcolor": "white",
           "linecolor": "white",
           "ticks": "",
           "title": {
            "standoff": 15
           },
           "zerolinecolor": "white",
           "zerolinewidth": 2
          },
          "yaxis": {
           "automargin": true,
           "gridcolor": "white",
           "linecolor": "white",
           "ticks": "",
           "title": {
            "standoff": 15
           },
           "zerolinecolor": "white",
           "zerolinewidth": 2
          }
         }
        },
        "title": {
         "text": "Biochemical parameter Subplots"
        },
        "width": 800,
        "xaxis": {
         "anchor": "y",
         "domain": [
          0,
          0.45
         ]
        },
        "xaxis2": {
         "anchor": "y2",
         "domain": [
          0.55,
          1
         ]
        },
        "xaxis3": {
         "anchor": "y3",
         "domain": [
          0,
          0.45
         ]
        },
        "xaxis4": {
         "anchor": "y4",
         "domain": [
          0.55,
          1
         ]
        },
        "yaxis": {
         "anchor": "x",
         "domain": [
          0.625,
          1
         ]
        },
        "yaxis2": {
         "anchor": "x2",
         "domain": [
          0.625,
          1
         ]
        },
        "yaxis3": {
         "anchor": "x3",
         "domain": [
          0,
          0.375
         ]
        },
        "yaxis4": {
         "anchor": "x4",
         "domain": [
          0,
          0.375
         ]
        }
       }
      },
      "text/html": [
       "<div>                            <div id=\"d19bc15d-7737-44e2-a8a9-d6198270f599\" class=\"plotly-graph-div\" style=\"height:800px; width:800px;\"></div>            <script type=\"text/javascript\">                require([\"plotly\"], function(Plotly) {                    window.PLOTLYENV=window.PLOTLYENV || {};                                    if (document.getElementById(\"d19bc15d-7737-44e2-a8a9-d6198270f599\")) {                    Plotly.newPlot(                        \"d19bc15d-7737-44e2-a8a9-d6198270f599\",                        [{\"x\":[\"Pre_Ito\",\"Pre_Ito\",\"Pre_Ito\",\"Pre_Ito\",\"Pre_Ito\",\"Pre_Ito\",\"Pre_Ito\",\"Pre_Ito\",\"Pre_Ito\",\"Pre_Ito\",\"Pre_Ito\",\"Pre_Ito\",\"Pre_Ito\",\"Post_Ito\",\"Post_Ito\",\"Post_Ito\",\"Post_Ito\",\"Post_Ito\",\"Post_Ito\",\"Post_Ito\",\"Post_Ito\",\"Post_Ito\",\"Post_Ito\",\"Post_Ito\",\"Post_Ito\",\"Post_Ito\"],\"y\":[95.0,96.0,93.0,95.0,94.0,95.0,91.0,null,91.0,98.0,null,null,null,97.0,99.0,97.0,98.0,92.0,97.0,90.0,95.0,97.0,100.0,null,null,null],\"type\":\"box\",\"xaxis\":\"x\",\"yaxis\":\"y\",\"quartilemethod\":\"exclusive\"},{\"x\":[\"Pre_Ito\",\"Pre_Ito\",\"Pre_Ito\",\"Pre_Ito\",\"Pre_Ito\",\"Pre_Ito\",\"Pre_Ito\",\"Pre_Ito\",\"Pre_Ito\",\"Pre_Ito\",\"Pre_Ito\",\"Pre_Ito\",\"Pre_Ito\",\"Post_Ito\",\"Post_Ito\",\"Post_Ito\",\"Post_Ito\",\"Post_Ito\",\"Post_Ito\",\"Post_Ito\",\"Post_Ito\",\"Post_Ito\",\"Post_Ito\",\"Post_Ito\",\"Post_Ito\",\"Post_Ito\"],\"y\":[614.0,967.0,1004.8,112.0,93.4,null,462.0,319.0,1500.0,23.5,1760.0,1279.0,null,315.8,423.0,688.0,null,100.0,null,null,null,null,null,520.0,326.0,398.0],\"type\":\"box\",\"xaxis\":\"x2\",\"yaxis\":\"y2\",\"quartilemethod\":\"exclusive\"},{\"x\":[\"Pre_Ito\",\"Pre_Ito\",\"Pre_Ito\",\"Pre_Ito\",\"Pre_Ito\",\"Pre_Ito\",\"Pre_Ito\",\"Pre_Ito\",\"Pre_Ito\",\"Pre_Ito\",\"Pre_Ito\",\"Pre_Ito\",\"Pre_Ito\",\"Post_Ito\",\"Post_Ito\",\"Post_Ito\",\"Post_Ito\",\"Post_Ito\",\"Post_Ito\",\"Post_Ito\",\"Post_Ito\",\"Post_Ito\",\"Post_Ito\",\"Post_Ito\",\"Post_Ito\",\"Post_Ito\"],\"y\":[9800.0,16000.0,11700.0,10000.0,23100.0,11300.0,9800.0,9500.0,4000.0,5300.0,16100.0,null,null,13700.0,21100.0,9700.0,14100.0,20200.0,29300.0,14400.0,13900.0,7100.0,8800.0,13900.0,null,null],\"type\":\"box\",\"xaxis\":\"x3\",\"yaxis\":\"y3\",\"quartilemethod\":\"exclusive\"},{\"x\":[\"Pre_Ito\",\"Pre_Ito\",\"Pre_Ito\",\"Pre_Ito\",\"Pre_Ito\",\"Pre_Ito\",\"Pre_Ito\",\"Pre_Ito\",\"Pre_Ito\",\"Pre_Ito\",\"Pre_Ito\",\"Pre_Ito\",\"Pre_Ito\",\"Post_Ito\",\"Post_Ito\",\"Post_Ito\",\"Post_Ito\",\"Post_Ito\",\"Post_Ito\",\"Post_Ito\",\"Post_Ito\",\"Post_Ito\",\"Post_Ito\",\"Post_Ito\",\"Post_Ito\",\"Post_Ito\"],\"y\":[2.9,2.1,2.6,3.7,1.9,2.4,1.7,2.1,1.5,3.1,null,null,null,4.2,3.3,2.8,3.3,6.0,0.9,0.94,2.8,2.5,3.2,null,null,null],\"type\":\"box\",\"xaxis\":\"x4\",\"yaxis\":\"y4\",\"quartilemethod\":\"exclusive\"}],                        {\"template\":{\"data\":{\"histogram2dcontour\":[{\"type\":\"histogram2dcontour\",\"colorbar\":{\"outlinewidth\":0,\"ticks\":\"\"},\"colorscale\":[[0.0,\"#0d0887\"],[0.1111111111111111,\"#46039f\"],[0.2222222222222222,\"#7201a8\"],[0.3333333333333333,\"#9c179e\"],[0.4444444444444444,\"#bd3786\"],[0.5555555555555556,\"#d8576b\"],[0.6666666666666666,\"#ed7953\"],[0.7777777777777778,\"#fb9f3a\"],[0.8888888888888888,\"#fdca26\"],[1.0,\"#f0f921\"]]}],\"choropleth\":[{\"type\":\"choropleth\",\"colorbar\":{\"outlinewidth\":0,\"ticks\":\"\"}}],\"histogram2d\":[{\"type\":\"histogram2d\",\"colorbar\":{\"outlinewidth\":0,\"ticks\":\"\"},\"colorscale\":[[0.0,\"#0d0887\"],[0.1111111111111111,\"#46039f\"],[0.2222222222222222,\"#7201a8\"],[0.3333333333333333,\"#9c179e\"],[0.4444444444444444,\"#bd3786\"],[0.5555555555555556,\"#d8576b\"],[0.6666666666666666,\"#ed7953\"],[0.7777777777777778,\"#fb9f3a\"],[0.8888888888888888,\"#fdca26\"],[1.0,\"#f0f921\"]]}],\"heatmap\":[{\"type\":\"heatmap\",\"colorbar\":{\"outlinewidth\":0,\"ticks\":\"\"},\"colorscale\":[[0.0,\"#0d0887\"],[0.1111111111111111,\"#46039f\"],[0.2222222222222222,\"#7201a8\"],[0.3333333333333333,\"#9c179e\"],[0.4444444444444444,\"#bd3786\"],[0.5555555555555556,\"#d8576b\"],[0.6666666666666666,\"#ed7953\"],[0.7777777777777778,\"#fb9f3a\"],[0.8888888888888888,\"#fdca26\"],[1.0,\"#f0f921\"]]}],\"heatmapgl\":[{\"type\":\"heatmapgl\",\"colorbar\":{\"outlinewidth\":0,\"ticks\":\"\"},\"colorscale\":[[0.0,\"#0d0887\"],[0.1111111111111111,\"#46039f\"],[0.2222222222222222,\"#7201a8\"],[0.3333333333333333,\"#9c179e\"],[0.4444444444444444,\"#bd3786\"],[0.5555555555555556,\"#d8576b\"],[0.6666666666666666,\"#ed7953\"],[0.7777777777777778,\"#fb9f3a\"],[0.8888888888888888,\"#fdca26\"],[1.0,\"#f0f921\"]]}],\"contourcarpet\":[{\"type\":\"contourcarpet\",\"colorbar\":{\"outlinewidth\":0,\"ticks\":\"\"}}],\"contour\":[{\"type\":\"contour\",\"colorbar\":{\"outlinewidth\":0,\"ticks\":\"\"},\"colorscale\":[[0.0,\"#0d0887\"],[0.1111111111111111,\"#46039f\"],[0.2222222222222222,\"#7201a8\"],[0.3333333333333333,\"#9c179e\"],[0.4444444444444444,\"#bd3786\"],[0.5555555555555556,\"#d8576b\"],[0.6666666666666666,\"#ed7953\"],[0.7777777777777778,\"#fb9f3a\"],[0.8888888888888888,\"#fdca26\"],[1.0,\"#f0f921\"]]}],\"surface\":[{\"type\":\"surface\",\"colorbar\":{\"outlinewidth\":0,\"ticks\":\"\"},\"colorscale\":[[0.0,\"#0d0887\"],[0.1111111111111111,\"#46039f\"],[0.2222222222222222,\"#7201a8\"],[0.3333333333333333,\"#9c179e\"],[0.4444444444444444,\"#bd3786\"],[0.5555555555555556,\"#d8576b\"],[0.6666666666666666,\"#ed7953\"],[0.7777777777777778,\"#fb9f3a\"],[0.8888888888888888,\"#fdca26\"],[1.0,\"#f0f921\"]]}],\"mesh3d\":[{\"type\":\"mesh3d\",\"colorbar\":{\"outlinewidth\":0,\"ticks\":\"\"}}],\"scatter\":[{\"fillpattern\":{\"fillmode\":\"overlay\",\"size\":10,\"solidity\":0.2},\"type\":\"scatter\"}],\"parcoords\":[{\"type\":\"parcoords\",\"line\":{\"colorbar\":{\"outlinewidth\":0,\"ticks\":\"\"}}}],\"scatterpolargl\":[{\"type\":\"scatterpolargl\",\"marker\":{\"colorbar\":{\"outlinewidth\":0,\"ticks\":\"\"}}}],\"bar\":[{\"error_x\":{\"color\":\"#2a3f5f\"},\"error_y\":{\"color\":\"#2a3f5f\"},\"marker\":{\"line\":{\"color\":\"#E5ECF6\",\"width\":0.5},\"pattern\":{\"fillmode\":\"overlay\",\"size\":10,\"solidity\":0.2}},\"type\":\"bar\"}],\"scattergeo\":[{\"type\":\"scattergeo\",\"marker\":{\"colorbar\":{\"outlinewidth\":0,\"ticks\":\"\"}}}],\"scatterpolar\":[{\"type\":\"scatterpolar\",\"marker\":{\"colorbar\":{\"outlinewidth\":0,\"ticks\":\"\"}}}],\"histogram\":[{\"marker\":{\"pattern\":{\"fillmode\":\"overlay\",\"size\":10,\"solidity\":0.2}},\"type\":\"histogram\"}],\"scattergl\":[{\"type\":\"scattergl\",\"marker\":{\"colorbar\":{\"outlinewidth\":0,\"ticks\":\"\"}}}],\"scatter3d\":[{\"type\":\"scatter3d\",\"line\":{\"colorbar\":{\"outlinewidth\":0,\"ticks\":\"\"}},\"marker\":{\"colorbar\":{\"outlinewidth\":0,\"ticks\":\"\"}}}],\"scattermapbox\":[{\"type\":\"scattermapbox\",\"marker\":{\"colorbar\":{\"outlinewidth\":0,\"ticks\":\"\"}}}],\"scatterternary\":[{\"type\":\"scatterternary\",\"marker\":{\"colorbar\":{\"outlinewidth\":0,\"ticks\":\"\"}}}],\"scattercarpet\":[{\"type\":\"scattercarpet\",\"marker\":{\"colorbar\":{\"outlinewidth\":0,\"ticks\":\"\"}}}],\"carpet\":[{\"aaxis\":{\"endlinecolor\":\"#2a3f5f\",\"gridcolor\":\"white\",\"linecolor\":\"white\",\"minorgridcolor\":\"white\",\"startlinecolor\":\"#2a3f5f\"},\"baxis\":{\"endlinecolor\":\"#2a3f5f\",\"gridcolor\":\"white\",\"linecolor\":\"white\",\"minorgridcolor\":\"white\",\"startlinecolor\":\"#2a3f5f\"},\"type\":\"carpet\"}],\"table\":[{\"cells\":{\"fill\":{\"color\":\"#EBF0F8\"},\"line\":{\"color\":\"white\"}},\"header\":{\"fill\":{\"color\":\"#C8D4E3\"},\"line\":{\"color\":\"white\"}},\"type\":\"table\"}],\"barpolar\":[{\"marker\":{\"line\":{\"color\":\"#E5ECF6\",\"width\":0.5},\"pattern\":{\"fillmode\":\"overlay\",\"size\":10,\"solidity\":0.2}},\"type\":\"barpolar\"}],\"pie\":[{\"automargin\":true,\"type\":\"pie\"}]},\"layout\":{\"autotypenumbers\":\"strict\",\"colorway\":[\"#636efa\",\"#EF553B\",\"#00cc96\",\"#ab63fa\",\"#FFA15A\",\"#19d3f3\",\"#FF6692\",\"#B6E880\",\"#FF97FF\",\"#FECB52\"],\"font\":{\"color\":\"#2a3f5f\"},\"hovermode\":\"closest\",\"hoverlabel\":{\"align\":\"left\"},\"paper_bgcolor\":\"white\",\"plot_bgcolor\":\"#E5ECF6\",\"polar\":{\"bgcolor\":\"#E5ECF6\",\"angularaxis\":{\"gridcolor\":\"white\",\"linecolor\":\"white\",\"ticks\":\"\"},\"radialaxis\":{\"gridcolor\":\"white\",\"linecolor\":\"white\",\"ticks\":\"\"}},\"ternary\":{\"bgcolor\":\"#E5ECF6\",\"aaxis\":{\"gridcolor\":\"white\",\"linecolor\":\"white\",\"ticks\":\"\"},\"baxis\":{\"gridcolor\":\"white\",\"linecolor\":\"white\",\"ticks\":\"\"},\"caxis\":{\"gridcolor\":\"white\",\"linecolor\":\"white\",\"ticks\":\"\"}},\"coloraxis\":{\"colorbar\":{\"outlinewidth\":0,\"ticks\":\"\"}},\"colorscale\":{\"sequential\":[[0.0,\"#0d0887\"],[0.1111111111111111,\"#46039f\"],[0.2222222222222222,\"#7201a8\"],[0.3333333333333333,\"#9c179e\"],[0.4444444444444444,\"#bd3786\"],[0.5555555555555556,\"#d8576b\"],[0.6666666666666666,\"#ed7953\"],[0.7777777777777778,\"#fb9f3a\"],[0.8888888888888888,\"#fdca26\"],[1.0,\"#f0f921\"]],\"sequentialminus\":[[0.0,\"#0d0887\"],[0.1111111111111111,\"#46039f\"],[0.2222222222222222,\"#7201a8\"],[0.3333333333333333,\"#9c179e\"],[0.4444444444444444,\"#bd3786\"],[0.5555555555555556,\"#d8576b\"],[0.6666666666666666,\"#ed7953\"],[0.7777777777777778,\"#fb9f3a\"],[0.8888888888888888,\"#fdca26\"],[1.0,\"#f0f921\"]],\"diverging\":[[0,\"#8e0152\"],[0.1,\"#c51b7d\"],[0.2,\"#de77ae\"],[0.3,\"#f1b6da\"],[0.4,\"#fde0ef\"],[0.5,\"#f7f7f7\"],[0.6,\"#e6f5d0\"],[0.7,\"#b8e186\"],[0.8,\"#7fbc41\"],[0.9,\"#4d9221\"],[1,\"#276419\"]]},\"xaxis\":{\"gridcolor\":\"white\",\"linecolor\":\"white\",\"ticks\":\"\",\"title\":{\"standoff\":15},\"zerolinecolor\":\"white\",\"automargin\":true,\"zerolinewidth\":2},\"yaxis\":{\"gridcolor\":\"white\",\"linecolor\":\"white\",\"ticks\":\"\",\"title\":{\"standoff\":15},\"zerolinecolor\":\"white\",\"automargin\":true,\"zerolinewidth\":2},\"scene\":{\"xaxis\":{\"backgroundcolor\":\"#E5ECF6\",\"gridcolor\":\"white\",\"linecolor\":\"white\",\"showbackground\":true,\"ticks\":\"\",\"zerolinecolor\":\"white\",\"gridwidth\":2},\"yaxis\":{\"backgroundcolor\":\"#E5ECF6\",\"gridcolor\":\"white\",\"linecolor\":\"white\",\"showbackground\":true,\"ticks\":\"\",\"zerolinecolor\":\"white\",\"gridwidth\":2},\"zaxis\":{\"backgroundcolor\":\"#E5ECF6\",\"gridcolor\":\"white\",\"linecolor\":\"white\",\"showbackground\":true,\"ticks\":\"\",\"zerolinecolor\":\"white\",\"gridwidth\":2}},\"shapedefaults\":{\"line\":{\"color\":\"#2a3f5f\"}},\"annotationdefaults\":{\"arrowcolor\":\"#2a3f5f\",\"arrowhead\":0,\"arrowwidth\":1},\"geo\":{\"bgcolor\":\"white\",\"landcolor\":\"#E5ECF6\",\"subunitcolor\":\"white\",\"showland\":true,\"showlakes\":true,\"lakecolor\":\"white\"},\"title\":{\"x\":0.05},\"mapbox\":{\"style\":\"light\"}}},\"xaxis\":{\"anchor\":\"y\",\"domain\":[0.0,0.45]},\"yaxis\":{\"anchor\":\"x\",\"domain\":[0.625,1.0]},\"xaxis2\":{\"anchor\":\"y2\",\"domain\":[0.55,1.0]},\"yaxis2\":{\"anchor\":\"x2\",\"domain\":[0.625,1.0]},\"xaxis3\":{\"anchor\":\"y3\",\"domain\":[0.0,0.45]},\"yaxis3\":{\"anchor\":\"x3\",\"domain\":[0.0,0.375]},\"xaxis4\":{\"anchor\":\"y4\",\"domain\":[0.55,1.0]},\"yaxis4\":{\"anchor\":\"x4\",\"domain\":[0.0,0.375]},\"annotations\":[{\"font\":{\"size\":16},\"showarrow\":false,\"text\":\"SPO2\",\"x\":0.225,\"xanchor\":\"center\",\"xref\":\"paper\",\"y\":1.0,\"yanchor\":\"bottom\",\"yref\":\"paper\"},{\"font\":{\"size\":16},\"showarrow\":false,\"text\":\"Ferritin\",\"x\":0.775,\"xanchor\":\"center\",\"xref\":\"paper\",\"y\":1.0,\"yanchor\":\"bottom\",\"yref\":\"paper\"},{\"font\":{\"size\":16},\"showarrow\":false,\"text\":\"Lymphocytes\",\"x\":0.225,\"xanchor\":\"center\",\"xref\":\"paper\",\"y\":0.375,\"yanchor\":\"bottom\",\"yref\":\"paper\"},{\"font\":{\"size\":16},\"showarrow\":false,\"text\":\"Platelets\",\"x\":0.775,\"xanchor\":\"center\",\"xref\":\"paper\",\"y\":0.375,\"yanchor\":\"bottom\",\"yref\":\"paper\"}],\"title\":{\"text\":\"Biochemical parameter Subplots\"},\"height\":800,\"width\":800},                        {\"responsive\": true}                    ).then(function(){\n",
       "                            \n",
       "var gd = document.getElementById('d19bc15d-7737-44e2-a8a9-d6198270f599');\n",
       "var x = new MutationObserver(function (mutations, observer) {{\n",
       "        var display = window.getComputedStyle(gd).display;\n",
       "        if (!display || display === 'none') {{\n",
       "            console.log([gd, 'removed!']);\n",
       "            Plotly.purge(gd);\n",
       "            observer.disconnect();\n",
       "        }}\n",
       "}});\n",
       "\n",
       "// Listen for the removal of the full notebook cells\n",
       "var notebookContainer = gd.closest('#notebook-container');\n",
       "if (notebookContainer) {{\n",
       "    x.observe(notebookContainer, {childList: true});\n",
       "}}\n",
       "\n",
       "// Listen for the clearing of the current output cell\n",
       "var outputEl = gd.closest('.output');\n",
       "if (outputEl) {{\n",
       "    x.observe(outputEl, {childList: true});\n",
       "}}\n",
       "\n",
       "                        })                };                });            </script>        </div>"
      ]
     },
     "metadata": {},
     "output_type": "display_data"
    }
   ],
   "source": [
    "import plotly.graph_objects as go\n",
    "from plotly.subplots import make_subplots\n",
    "\n",
    "fig = make_subplots(rows=2, cols=2, subplot_titles=(\"SPO2\", \"Ferritin\", \"Lymphocytes\", \"Platelets\"))\n",
    "df= pd.DataFrame(data=df_xls, columns=[\"SPO2_pre_ito\", \"SPO2_post_ito\"])\n",
    "df=df.rename(columns={\"SPO2_pre_ito\": \"Pre_Ito\", \"SPO2_post_ito\": \"Post_Ito\"})\n",
    "df=pd.melt(df)\n",
    "fig.add_trace(\n",
    "    go.Box(x=df.variable, y=df.value), row = 1, col = 1)\n",
    "#fig.update_traces(quartilemethod=\"exclusive\") # or \"inclusive\", or \"linear\" by default\n",
    "\n",
    "\n",
    "df_ferritin = pd.DataFrame(data=df_xls, columns=[\"s_ferritin_mg_ltr_pre_ito\", \"s_ferritin_mg_ltr_post_ito\"])\n",
    "df_ferritin=df_ferritin.rename(columns={\"s_ferritin_mg_ltr_pre_ito\": \"Pre_Ito\", \"s_ferritin_mg_ltr_post_ito\": \"Post_Ito\"})\n",
    "df_ferritin=pd.melt(df_ferritin)\n",
    "fig.add_trace(\n",
    "    go.Box(x=df_ferritin.variable, y=df_ferritin.value), row = 1, col = 2)\n",
    "#fig.update_traces(quartilemethod=\"exclusive\") # or \"inclusive\", or \"linear\" by default\n",
    "\n",
    "df_lymphocytes = pd.DataFrame(data=df_xls, columns=[\"lymphocyte_cnt_pre_ito\",  \"lymphocyte_cnt_post_ito\"])\n",
    "df_lymphocytes=df_lymphocytes.rename(columns={\"lymphocyte_cnt_pre_ito\": \"Pre_Ito\", \"lymphocyte_cnt_post_ito\": \"Post_Ito\"})\n",
    "df_lymphocytes=pd.melt(df_lymphocytes)\n",
    "fig.add_trace(\n",
    "    go.Box(x=df_lymphocytes.variable, y=df_lymphocytes.value), row = 2, col = 1)\n",
    "\n",
    "df_platelets = pd.DataFrame(data=df_xls, columns=[\"platelets_pre_ito\",  \"platelets_post_ito\"])\n",
    "df_platelets=df_platelets.rename(columns={\"platelets_pre_ito\": \"Pre_Ito\", \"platelets_post_ito\": \"Post_Ito\"})\n",
    "df_platelets=pd.melt(df_platelets)\n",
    "fig.add_trace(\n",
    "    go.Box(x=df_platelets.variable, y=df_platelets.value), row = 2, col = 2)\n",
    "fig.update_traces(quartilemethod=\"exclusive\") # or \"inclusive\", or \"linear\" by default\n",
    "fig.update_layout(height=800, width=800, title_text=\"Biochemical parameter Subplots\")\n",
    "fig.show()\n"
   ]
  },
  {
   "cell_type": "markdown",
   "id": "2314d02d",
   "metadata": {},
   "source": [
    "### Discussion<a id='discussion'>"
   ]
  },
  {
   "cell_type": "code",
   "execution_count": 22,
   "id": "335ee316",
   "metadata": {},
   "outputs": [],
   "source": [
    "### details needed"
   ]
  },
  {
   "cell_type": "markdown",
   "id": "dd035420",
   "metadata": {},
   "source": [
    "### Conclusion<a id='conclusion'>"
   ]
  },
  {
   "cell_type": "code",
   "execution_count": 23,
   "id": "5f38bfaa",
   "metadata": {},
   "outputs": [],
   "source": [
    "### details needed"
   ]
  },
  {
   "cell_type": "code",
   "execution_count": null,
   "id": "244ece55",
   "metadata": {},
   "outputs": [],
   "source": []
  }
 ],
 "metadata": {
  "kernelspec": {
   "display_name": "Python 3 (ipykernel)",
   "language": "python",
   "name": "python3"
  },
  "language_info": {
   "codemirror_mode": {
    "name": "ipython",
    "version": 3
   },
   "file_extension": ".py",
   "mimetype": "text/x-python",
   "name": "python",
   "nbconvert_exporter": "python",
   "pygments_lexer": "ipython3",
   "version": "3.9.13"
  }
 },
 "nbformat": 4,
 "nbformat_minor": 5
}
